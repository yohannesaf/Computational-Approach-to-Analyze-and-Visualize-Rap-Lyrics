{
 "cells": [
  {
   "cell_type": "code",
   "execution_count": 6,
   "metadata": {
    "collapsed": false
   },
   "outputs": [],
   "source": [
    "# from mcl_clustering import mcl\n",
    "from collections import OrderedDict"
   ]
  },
  {
   "cell_type": "code",
   "execution_count": 11,
   "metadata": {
    "collapsed": false
   },
   "outputs": [
    {
     "data": {
      "text/plain": [
       "OrderedDict([('got', [u'\\x1b[30mgot']),\n",
       "             ('me', [u'\\x1b[30mme']),\n",
       "             ('breathing', [u'\\x1b[30mbreath', u'\\x1b[30ming']),\n",
       "             ('with', [u'\\x1b[30mwith']),\n",
       "             ('dragons', [u'\\x1b[32mdrag', u'\\x1b[31mons']),\n",
       "             ('i', [u'\\x1b[30mi']),\n",
       "             ('crack', [u'\\x1b[32mcrack']),\n",
       "             ('the', [u'\\x1b[30mthe']),\n",
       "             ('egg', [u'\\x1b[30megg']),\n",
       "             ('in', [u'\\x1b[30min']),\n",
       "             ('your', [u'\\x1b[34myour']),\n",
       "             ('basket', [u'\\x1b[32mbas', u'\\x1b[30mket']),\n",
       "             ('you', [u'\\x1b[30myou']),\n",
       "             ('bastard', [u'\\x1b[32mbas', u'\\x1b[30mtard']),\n",
       "             (\"'m\", [u\"\\x1b[30m'm\"]),\n",
       "             ('marilyn', [u'\\x1b[30mmar', u'\\x1b[30mi', u'\\x1b[31mlyn']),\n",
       "             ('manson', [u'\\x1b[32mman', u'\\x1b[31mson']),\n",
       "             ('madness', [u'\\x1b[32mmad', u'\\x1b[31mness']),\n",
       "             ('now', [u'\\x1b[30mnow']),\n",
       "             ('just', [u'\\x1b[30mjust']),\n",
       "             ('imagine', ['\\x1b[30mi', '\\x1b[32mma', '\\x1b[31mgi']),\n",
       "             ('magic', ['\\x1b[32mne', '\\x1b[30mma']),\n",
       "             ('light', ['\\x1b[30mgic']),\n",
       "             ('to', [u'\\x1b[30mlight']),\n",
       "             ('asses', [u'\\x1b[30mto', '\\x1b[31mas']),\n",
       "             ('do', ['\\x1b[30mses']),\n",
       "             ('ask', [u'\\x1b[32mdo']),\n",
       "             ('for', [u'\\x1b[34mask']),\n",
       "             ('favorite', [u'\\x1b[30mfor', '\\x1b[30mfa', '\\x1b[30mvo']),\n",
       "             ('rapper', ['\\x1b[32mri', '\\x1b[30mte'])])"
      ]
     },
     "execution_count": 11,
     "metadata": {},
     "output_type": "execute_result"
    }
   ],
   "source": [
    "test = OrderedDict([('got', [u'\\x1b[30mgot']),\n",
    "             ('me', [u'\\x1b[30mme']),\n",
    "             ('breathing', [u'\\x1b[30mbreath', u'\\x1b[30ming']),\n",
    "             ('with', [u'\\x1b[30mwith']),\n",
    "             ('dragons', [u'\\x1b[32mdrag', u'\\x1b[31mons']),\n",
    "             ('i', [u'\\x1b[30mi']),\n",
    "             ('crack', [u'\\x1b[32mcrack']),\n",
    "             ('the', [u'\\x1b[30mthe']),\n",
    "             ('egg', [u'\\x1b[30megg']),\n",
    "             ('in', [u'\\x1b[30min']),\n",
    "             ('your', [u'\\x1b[34myour']),\n",
    "             ('basket', [u'\\x1b[32mbas', u'\\x1b[30mket']),\n",
    "             ('you', [u'\\x1b[30myou']),\n",
    "             ('bastard', [u'\\x1b[32mbas', u'\\x1b[30mtard']),\n",
    "             (\"'m\", [u\"\\x1b[30m'm\"]),\n",
    "             ('marilyn', [u'\\x1b[30mmar', u'\\x1b[30mi', u'\\x1b[31mlyn']),\n",
    "             ('manson', [u'\\x1b[32mman', u'\\x1b[31mson']),\n",
    "             ('madness', [u'\\x1b[32mmad', u'\\x1b[31mness']),\n",
    "             ('now', [u'\\x1b[30mnow']),\n",
    "             ('just', [u'\\x1b[30mjust']),\n",
    "             ('imagine', ['\\x1b[30mi', '\\x1b[32mma', '\\x1b[31mgi']),\n",
    "             ('magic', ['\\x1b[32mne', '\\x1b[30mma']),\n",
    "             ('light', ['\\x1b[30mgic']),\n",
    "             ('to', [u'\\x1b[30mlight']),\n",
    "             ('asses', [u'\\x1b[30mto', '\\x1b[31mas']),\n",
    "             ('do', ['\\x1b[30mses']),\n",
    "             ('ask', [u'\\x1b[32mdo']),\n",
    "             ('for', [u'\\x1b[34mask']),\n",
    "             ('favorite', [u'\\x1b[30mfor', '\\x1b[30mfa', '\\x1b[30mvo']),\n",
    "             ('rapper', ['\\x1b[32mri', '\\x1b[30mte'])])\n",
    "\n",
    "test"
   ]
  },
  {
   "cell_type": "code",
   "execution_count": null,
   "metadata": {
    "collapsed": false
   },
   "outputs": [],
   "source": []
  },
  {
   "cell_type": "code",
   "execution_count": 12,
   "metadata": {
    "collapsed": false
   },
   "outputs": [
    {
     "name": "stdout",
     "output_type": "stream",
     "text": [
      "\u001b[30mgot\n",
      "\u001b[30mme\n",
      "\u001b[30mbreath\n",
      "\u001b[30ming\n",
      "\u001b[30mwith\n",
      "\u001b[32mdrag\n",
      "\u001b[31mons\n",
      "\u001b[30mi\n",
      "\u001b[32mcrack\n",
      "\u001b[30mthe\n",
      "\u001b[30megg\n",
      "\u001b[30min\n",
      "\u001b[34myour\n",
      "\u001b[32mbas\n",
      "\u001b[30mket\n",
      "\u001b[30myou\n",
      "\u001b[32mbas\n",
      "\u001b[30mtard\n",
      "\u001b[30m'm\n",
      "\u001b[30mmar\n",
      "\u001b[30mi\n",
      "\u001b[31mlyn\n",
      "\u001b[32mman\n",
      "\u001b[31mson\n",
      "\u001b[32mmad\n",
      "\u001b[31mness\n",
      "\u001b[30mnow\n",
      "\u001b[30mjust\n",
      "\u001b[30mi\n",
      "\u001b[32mma\n",
      "\u001b[31mgi\n",
      "\u001b[32mne\n",
      "\u001b[30mma\n",
      "\u001b[30mgic\n",
      "\u001b[30mlight\n",
      "\u001b[30mto\n",
      "\u001b[31mas\n",
      "\u001b[30mses\n",
      "\u001b[32mdo\n",
      "\u001b[34mask\n",
      "\u001b[30mfor\n",
      "\u001b[30mfa\n",
      "\u001b[30mvo\n",
      "\u001b[32mri\n",
      "\u001b[30mte\n"
     ]
    }
   ],
   "source": [
    "for key, val in test.iteritems():\n",
    "#     print key, val\n",
    "    for sound in val:\n",
    "        print sound"
   ]
  },
  {
   "cell_type": "code",
   "execution_count": null,
   "metadata": {
    "collapsed": true
   },
   "outputs": [],
   "source": []
  }
 ],
 "metadata": {
  "kernelspec": {
   "display_name": "Python [default]",
   "language": "python",
   "name": "python2"
  },
  "language_info": {
   "codemirror_mode": {
    "name": "ipython",
    "version": 2
   },
   "file_extension": ".py",
   "mimetype": "text/x-python",
   "name": "python",
   "nbconvert_exporter": "python",
   "pygments_lexer": "ipython2",
   "version": "2.7.12"
  }
 },
 "nbformat": 4,
 "nbformat_minor": 1
}
