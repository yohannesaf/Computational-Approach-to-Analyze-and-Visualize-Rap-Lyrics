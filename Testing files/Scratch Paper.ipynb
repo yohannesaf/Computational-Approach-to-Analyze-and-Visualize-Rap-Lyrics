{
 "cells": [
  {
   "cell_type": "code",
   "execution_count": 3,
   "metadata": {
    "collapsed": true
   },
   "outputs": [],
   "source": [
    "import pandas as pd\n",
    "import numpy as np\n",
    "import pronouncing as pr\n",
    "from nltk.tokenize import word_tokenize\n",
    "from collections import OrderedDict\n",
    "from syllabify.syllabify import syllabify as syl\n",
    "from nltk.corpus import cmudict"
   ]
  },
  {
   "cell_type": "code",
   "execution_count": 4,
   "metadata": {
    "collapsed": false
   },
   "outputs": [
    {
     "name": "stdout",
     "output_type": "stream",
     "text": [
      "[['forgotten', 'spot', 'in', 'the', 'caribbean']]\n"
     ]
    }
   ],
   "source": [
    "# Reading file line by line\n",
    "\n",
    "content = []\n",
    "with open('lyrics/forgot.md') as f:\n",
    "    for line in f.readlines():\n",
    "        content.append(word_tokenize(line.lower().strip()))\n",
    "    \n",
    "print content"
   ]
  },
  {
   "cell_type": "code",
   "execution_count": null,
   "metadata": {
    "collapsed": false
   },
   "outputs": [],
   "source": []
  },
  {
   "cell_type": "code",
   "execution_count": 3,
   "metadata": {
    "collapsed": false
   },
   "outputs": [
    {
     "data": {
      "text/plain": [
       "list"
      ]
     },
     "execution_count": 3,
     "metadata": {},
     "output_type": "execute_result"
    }
   ],
   "source": [
    "type(content)"
   ]
  },
  {
   "cell_type": "code",
   "execution_count": null,
   "metadata": {
    "collapsed": true
   },
   "outputs": [],
   "source": []
  },
  {
   "cell_type": "code",
   "execution_count": 5,
   "metadata": {
    "collapsed": false
   },
   "outputs": [
    {
     "name": "stdout",
     "output_type": "stream",
     "text": [
      "forgotten spot in the caribbean\n"
     ]
    }
   ],
   "source": [
    "line = 'Forgotten spot in the Caribbean'.lower()\n",
    "print line"
   ]
  },
  {
   "cell_type": "code",
   "execution_count": null,
   "metadata": {
    "collapsed": true
   },
   "outputs": [],
   "source": []
  },
  {
   "cell_type": "code",
   "execution_count": 4,
   "metadata": {
    "collapsed": false
   },
   "outputs": [
    {
     "name": "stdout",
     "output_type": "stream",
     "text": [
      "['forgotten spot in the caribbean']\n"
     ]
    }
   ],
   "source": [
    "lines = line.splitlines()\n",
    "print lines"
   ]
  },
  {
   "cell_type": "code",
   "execution_count": 5,
   "metadata": {
    "collapsed": false
   },
   "outputs": [
    {
     "name": "stdout",
     "output_type": "stream",
     "text": [
      "[['forgotten', 'spot', 'in', 'the', 'caribbean']]\n"
     ]
    }
   ],
   "source": [
    "# this might not be neccessary. Get back to this when the scoring \n",
    "# mechanism has been been implemented.\n",
    "\n",
    "from nltk.tokenize import word_tokenize\n",
    "\n",
    "tokens = []\n",
    "for sent in lines:\n",
    "    tokens.append(word_tokenize(sent))\n",
    "print tokens"
   ]
  },
  {
   "cell_type": "code",
   "execution_count": null,
   "metadata": {
    "collapsed": false,
    "scrolled": true
   },
   "outputs": [],
   "source": []
  },
  {
   "cell_type": "code",
   "execution_count": null,
   "metadata": {
    "collapsed": false
   },
   "outputs": [],
   "source": []
  },
  {
   "cell_type": "code",
   "execution_count": null,
   "metadata": {
    "collapsed": false
   },
   "outputs": [],
   "source": []
  },
  {
   "cell_type": "code",
   "execution_count": null,
   "metadata": {
    "collapsed": true
   },
   "outputs": [],
   "source": []
  },
  {
   "cell_type": "code",
   "execution_count": null,
   "metadata": {
    "collapsed": false
   },
   "outputs": [],
   "source": []
  },
  {
   "cell_type": "code",
   "execution_count": 6,
   "metadata": {
    "collapsed": true
   },
   "outputs": [],
   "source": [
    "from nltk.corpus.reader.util import *\n",
    "from nltk.corpus.reader.api import *\n",
    "from nltk.corpus import cmudict"
   ]
  },
  {
   "cell_type": "code",
   "execution_count": 7,
   "metadata": {
    "collapsed": false
   },
   "outputs": [
    {
     "name": "stdout",
     "output_type": "stream",
     "text": [
      "[('forgotten', [u'F', u'ER0', u'G', u'AA1', u'T', u'AH0', u'N']), ('spot', [u'S', u'P', u'AA1', u'T']), ('in', [u'IH0', u'N']), ('the', [u'DH', u'AH0']), ('caribbean', [u'K', u'ER0', u'IH1', u'B', u'IY0', u'AH0', u'N'])]\n"
     ]
    }
   ],
   "source": [
    "# option one: returning the words in tupel form with word and aphabet.\n",
    "\n",
    "from nltk.corpus import cmudict\n",
    "\n",
    "def word_aphabet(string):\n",
    "\n",
    "    aphabet = cmudict.dict()\n",
    "    output = []\n",
    "    for i, word in enumerate(string):\n",
    "        try:\n",
    "            output.append((word, aphabet[word][0]))\n",
    "        except Exception as e:\n",
    "            print e\n",
    "    return output\n",
    "\n",
    "output = word_aphabet(content[0])\n",
    "print output"
   ]
  },
  {
   "cell_type": "code",
   "execution_count": 8,
   "metadata": {
    "collapsed": false
   },
   "outputs": [
    {
     "name": "stdout",
     "output_type": "stream",
     "text": [
      "forgotten\n",
      "[u'F', u'ER0', u'G', u'AA1', u'T', u'AH0', u'N']\n",
      "spot\n",
      "[u'S', u'P', u'AA1', u'T']\n",
      "in\n",
      "[u'IH0', u'N']\n",
      "the\n",
      "[u'DH', u'AH0']\n",
      "caribbean\n",
      "[u'K', u'ER0', u'IH1', u'B', u'IY0', u'AH0', u'N']\n"
     ]
    }
   ],
   "source": [
    "# accessing the the data \n",
    "for l in output:\n",
    "    print l[0]\n",
    "#     print l[1][1]\n",
    "    print l[1]"
   ]
  },
  {
   "cell_type": "code",
   "execution_count": 9,
   "metadata": {
    "collapsed": true
   },
   "outputs": [],
   "source": [
    "from nltk.corpus import PlaintextCorpusReader"
   ]
  },
  {
   "cell_type": "code",
   "execution_count": 10,
   "metadata": {
    "collapsed": false
   },
   "outputs": [],
   "source": [
    "# corpus_root = '/home/yoyo/Desktop'\n",
    "# wordlists = PlaintextCorpusReader(corpus_root, 'mini.txt')\n",
    "# wordlists.words()\n",
    "\n",
    "# test = word_aphabet(wordlists.words())\n",
    "# print test[2]"
   ]
  },
  {
   "cell_type": "code",
   "execution_count": null,
   "metadata": {
    "collapsed": true
   },
   "outputs": [],
   "source": []
  },
  {
   "cell_type": "code",
   "execution_count": null,
   "metadata": {
    "collapsed": true
   },
   "outputs": [],
   "source": []
  },
  {
   "cell_type": "code",
   "execution_count": null,
   "metadata": {
    "collapsed": true
   },
   "outputs": [],
   "source": []
  },
  {
   "cell_type": "code",
   "execution_count": null,
   "metadata": {
    "collapsed": false
   },
   "outputs": [],
   "source": []
  },
  {
   "cell_type": "code",
   "execution_count": 11,
   "metadata": {
    "collapsed": false
   },
   "outputs": [
    {
     "name": "stdout",
     "output_type": "stream",
     "text": [
      "[u'F', u'ER0', u'G', u'AA1', u'T', u'AH0', u'N'] [1, 3, 1, 3, 1, 3, 1]\n"
     ]
    }
   ],
   "source": [
    "line = pr.phones_for_word('forgotten')[0].split()\n",
    "length = [len(ch) for ch in line]\n",
    "print line, length"
   ]
  },
  {
   "cell_type": "code",
   "execution_count": 15,
   "metadata": {
    "collapsed": false
   },
   "outputs": [
    {
     "name": "stdout",
     "output_type": "stream",
     "text": [
      "[[u'F', u'ER0'], [u'G', u'AA1'], [u'T', u'AH0']]\n"
     ]
    }
   ],
   "source": [
    "lst = []\n",
    "for ind, pho in enumerate(line):\n",
    "    if len(pho) > 1:\n",
    "        lst.append(line[ind-1:ind+1])\n",
    "    else:\n",
    "        continue\n",
    "\n",
    "print lst"
   ]
  },
  {
   "cell_type": "code",
   "execution_count": 16,
   "metadata": {
    "collapsed": false
   },
   "outputs": [
    {
     "name": "stdout",
     "output_type": "stream",
     "text": [
      "[]\n"
     ]
    }
   ],
   "source": [
    "lst = []\n",
    "for ind, pho in enumerate(line):\n",
    "    if len(pho) > 1 and pho[-1] == 0:\n",
    "        lst.append(line[ind-1:ind+1])\n",
    "    else:\n",
    "        continue\n",
    "\n",
    "print lst"
   ]
  },
  {
   "cell_type": "code",
   "execution_count": 17,
   "metadata": {
    "collapsed": false
   },
   "outputs": [
    {
     "data": {
      "text/plain": [
       "False"
      ]
     },
     "execution_count": 17,
     "metadata": {},
     "output_type": "execute_result"
    }
   ],
   "source": [
    "line[-1] in lst"
   ]
  },
  {
   "cell_type": "code",
   "execution_count": null,
   "metadata": {
    "collapsed": true
   },
   "outputs": [],
   "source": []
  },
  {
   "cell_type": "code",
   "execution_count": 18,
   "metadata": {
    "collapsed": false
   },
   "outputs": [
    {
     "name": "stdout",
     "output_type": "stream",
     "text": [
      "[u'K', u'EH0', u'R', u'IH1', u'B', u'IY2', u'AH0', u'N'] [1, 3, 1, 3, 1, 3, 1]\n"
     ]
    }
   ],
   "source": [
    "line2 = pr.phones_for_word('caribbean')[0].split()\n",
    "length = [len(ch) for ch in line]\n",
    "print line2, length"
   ]
  },
  {
   "cell_type": "code",
   "execution_count": 19,
   "metadata": {
    "collapsed": false
   },
   "outputs": [],
   "source": [
    "# lst = []\n",
    "# for ind, pho in enumerate(line):\n",
    "#     if len(pho) > 1 and pho[-1].isdigit():\n",
    "#         if int(pho[-1]) > 0:\n",
    "#             lst.append(line[ind-1:ind])\n",
    "#         else:\n",
    "#             lst.append(line[ind-1:ind+1])\n",
    "#     else:\n",
    "#         continue\n",
    "\n",
    "# print lst"
   ]
  },
  {
   "cell_type": "code",
   "execution_count": 8,
   "metadata": {
    "collapsed": false
   },
   "outputs": [],
   "source": [
    "#!/usr/bin/env python\n",
    "# Copyright (c) 2012-2013 Kyle Gorman <gormanky@ohsu.edu>\n",
    "# \n",
    "# Permission is hereby granted, free of charge, to any person obtaining a\n",
    "# copy of this software and associated documentation files (the \n",
    "# \"Software\"), to deal in the Software without restriction, including \n",
    "# without limitation the rights to use, copy, modify, merge, publish, \n",
    "# distribute, sublicense, and/or sell copies of the Software, and to \n",
    "# permit persons to whom the Software is furnished to do so, subject to \n",
    "# the following conditions:\n",
    "# \n",
    "# The above copyright notice and this permission notice shall be included \n",
    "# in all copies or substantial portions of the Software.\n",
    "# \n",
    "# THE SOFTWARE IS PROVIDED \"AS IS\", WITHOUT WARRANTY OF ANY KIND, EXPRESS \n",
    "# OR IMPLIED, INCLUDING BUT NOT LIMITED TO THE WARRANTIES OF \n",
    "# MERCHANTABILITY, FITNESS FOR A PARTICULAR PURPOSE AND NONINFRINGEMENT. \n",
    "# IN NO EVENT SHALL THE AUTHORS OR COPYRIGHT HOLDERS BE LIABLE FOR ANY \n",
    "# CLAIM, DAMAGES OR OTHER LIABILITY, WHETHER IN AN ACTION OF CONTRACT, \n",
    "# TORT OR OTHERWISE, ARISING FROM, OUT OF OR IN CONNECTION WITH THE \n",
    "# SOFTWARE OR THE USE OR OTHER DEALINGS IN THE SOFTWARE.\n",
    "# \n",
    "# syllabify.py: prosodic parsing of ARPABET entries\n",
    "\n",
    "from itertools import chain\n",
    "\n",
    "## constants\n",
    "SLAX   = {'IH1', 'IH2', 'EH1', 'EH2', 'AE1', 'AE2', 'AH1', 'AH2', \n",
    "                                                    'UH1', 'UH2',}\n",
    "VOWELS = {'IY1', 'IY2', 'IY0', 'EY1', 'EY2', 'EY0', 'AA1', 'AA2', 'AA0',\n",
    "          'ER1', 'ER2', 'ER0', 'AW1', 'AW2', 'AW0', 'AO1', 'AO2', 'AO0',\n",
    "          'AY1', 'AY2', 'AY0', 'OW1', 'OW2', 'OW0', 'OY1', 'OY2', 'OY0',\n",
    "          'IH0', 'EH0', 'AE0', 'AH0', 'UH0', 'UW1', 'UW2', 'UW0', 'UW',\n",
    "          'IY',  'EY',  'AA',  'ER',   'AW', 'AO',  'AY',  'OW',  'OY',  \n",
    "          'UH',  'IH',  'EH',  'AE',  'AH',  'UH',} | SLAX\n",
    "\n",
    "## licit medial onsets\n",
    "\n",
    "O2 = {('P', 'R'), ('T', 'R'), ('K', 'R'), ('B', 'R'), ('D', 'R'),\n",
    "      ('G', 'R'), ('F', 'R'), ('TH', 'R'), \n",
    "      ('P', 'L'), ('K', 'L'), ('B', 'L'), ('G', 'L'), \n",
    "      ('F', 'L'), ('S', 'L'),\n",
    "      ('K', 'W'), ('G', 'W'), ('S', 'W'),\n",
    "      ('S', 'P'), ('S', 'T'), ('S', 'K'),\n",
    "      ('HH', 'Y'), # \"clerihew\"\n",
    "      ('R', 'W'),}\n",
    "O3 = {('S', 'T', 'R'), ('S', 'K', 'L'), ('T', 'R', 'W')} # \"octroi\"\n",
    "\n",
    "# This does not represent anything like a complete list of onsets, but \n",
    "# merely those that need to be maximized in medial position.\n",
    "\n",
    "def syllabify(pron, alaska_rule=True):\n",
    "    \"\"\"\n",
    "    Syllabifies a CMU dictionary (ARPABET) word string\n",
    "\n",
    "    # Alaska rule:\n",
    "    >>> pprint(syllabify('AH0 L AE1 S K AH0'.split())) # Alaska\n",
    "    '-AH0-.L-AE1-S.K-AH0-'\n",
    "    >>> pprint(syllabify('AH0 L AE1 S K AH0'.split(), 0)) # Alaska\n",
    "    '-AH0-.L-AE1-.S K-AH0-'\n",
    "\n",
    "    # huge medial onsets:\n",
    "    >>> pprint(syllabify('M IH1 N S T R AH0 L'.split())) # minstrel\n",
    "    'M-IH1-N.S T R-AH0-L'\n",
    "    >>> pprint(syllabify('AA1  K T R W AA0 R'.split())) # octroi\n",
    "    '-AA1-K.T R W-AA0-R'\n",
    "\n",
    "    # destressing\n",
    "    >>> pprint(destress(syllabify('M IH1 L AH0 T EH2 R IY0'.split())))\n",
    "    'M-IH-.L-AH-.T-EH-.R-IY-'\n",
    "\n",
    "    # normal treatment of 'j':\n",
    "    >>> pprint(syllabify('M EH1 N Y UW0'.split())) # menu\n",
    "    'M-EH1-N.Y-UW0-'\n",
    "    >>> pprint(syllabify('S P AE1 N Y AH0 L'.split())) # spaniel\n",
    "    'S P-AE1-N.Y-AH0-L'\n",
    "    >>> pprint(syllabify('K AE1 N Y AH0 N'.split())) # canyon\n",
    "    'K-AE1-N.Y-AH0-N'\n",
    "    >>> pprint(syllabify('M IH0 N Y UW2 EH1 T'.split())) # minuet\n",
    "    'M-IH0-N.Y-UW2-.-EH1-T'\n",
    "    >>> pprint(syllabify('JH UW1 N Y ER0'.split())) # junior\n",
    "    'JH-UW1-N.Y-ER0-'\n",
    "    >>> pprint(syllabify('K L EH R IH HH Y UW'.split())) # clerihew\n",
    "    'K L-EH-.R-IH-.HH Y-UW-'\n",
    "\n",
    "    # nuclear treatment of 'j'\n",
    "    >>> pprint(syllabify('R EH1 S K Y UW0'.split())) # rescue\n",
    "    'R-EH1-S.K-Y UW0-'\n",
    "    >>> pprint(syllabify('T R IH1 B Y UW0 T'.split())) # tribute\n",
    "    'T R-IH1-B.Y-UW0-T'\n",
    "    >>> pprint(syllabify('N EH1 B Y AH0 L AH0'.split())) # nebula\n",
    "    'N-EH1-B.Y-AH0-.L-AH0-'\n",
    "    >>> pprint(syllabify('S P AE1 CH UH0 L AH0'.split())) # spatula\n",
    "    'S P-AE1-.CH-UH0-.L-AH0-'\n",
    "    >>> pprint(syllabify('AH0 K Y UW1 M AH0 N'.split())) # acumen\n",
    "    '-AH0-K.Y-UW1-.M-AH0-N'\n",
    "    >>> pprint(syllabify('S AH1 K Y AH0 L IH0 N T'.split())) # succulent\n",
    "    'S-AH1-K.Y-AH0-.L-IH0-N T'\n",
    "    >>> pprint(syllabify('F AO1 R M Y AH0 L AH0'.split())) # formula\n",
    "    'F-AO1 R-M.Y-AH0-.L-AH0-'\n",
    "    >>> pprint(syllabify('V AE1 L Y UW0'.split())) # value\n",
    "    'V-AE1-L.Y-UW0-'\n",
    "\n",
    "    # everything else\n",
    "    >>> pprint(syllabify('N AO0 S T AE1 L JH IH0 K'.split())) # nostalgic\n",
    "    'N-AO0-.S T-AE1-L.JH-IH0-K'\n",
    "    >>> pprint(syllabify('CH ER1 CH M AH0 N'.split())) # churchmen\n",
    "    'CH-ER1-CH.M-AH0-N'\n",
    "    >>> pprint(syllabify('K AA1 M P AH0 N S EY2 T'.split())) # compensate\n",
    "    'K-AA1-M.P-AH0-N.S-EY2-T'\n",
    "    >>> pprint(syllabify('IH0 N S EH1 N S'.split())) # inCENSE\n",
    "    '-IH0-N.S-EH1-N S'\n",
    "    >>> pprint(syllabify('IH1 N S EH2 N S'.split())) # INcense\n",
    "    '-IH1-N.S-EH2-N S'\n",
    "    >>> pprint(syllabify('AH0 S EH1 N D'.split())) # ascend\n",
    "    '-AH0-.S-EH1-N D'\n",
    "    >>> pprint(syllabify('R OW1 T EY2 T'.split())) # rotate\n",
    "    'R-OW1-.T-EY2-T'\n",
    "    >>> pprint(syllabify('AA1 R T AH0 S T'.split())) # artist\n",
    "    '-AA1 R-.T-AH0-S T'\n",
    "    >>> pprint(syllabify('AE1 K T ER0'.split())) # actor\n",
    "    '-AE1-K.T-ER0-'\n",
    "    >>> pprint(syllabify('P L AE1 S T ER0'.split())) # plaster\n",
    "    'P L-AE1-S.T-ER0-'\n",
    "    >>> pprint(syllabify('B AH1 T ER0'.split())) # butter\n",
    "    'B-AH1-.T-ER0-'\n",
    "    >>> pprint(syllabify('K AE1 M AH0 L'.split())) # camel\n",
    "    'K-AE1-.M-AH0-L'\n",
    "    >>> pprint(syllabify('AH1 P ER0'.split())) # upper\n",
    "    '-AH1-.P-ER0-'\n",
    "    >>> pprint(syllabify('B AH0 L UW1 N'.split())) # balloon\n",
    "    'B-AH0-.L-UW1-N'\n",
    "    >>> pprint(syllabify('P R OW0 K L EY1 M'.split())) # proclaim\n",
    "    'P R-OW0-.K L-EY1-M'\n",
    "    >>> pprint(syllabify('IH0 N S EY1 N'.split())) # insane\n",
    "    '-IH0-N.S-EY1-N'\n",
    "    >>> pprint(syllabify('IH0 K S K L UW1 D'.split())) # exclude\n",
    "    '-IH0-K.S K L-UW1-D'\n",
    "    \"\"\"\n",
    "    ## main pass\n",
    "    mypron = list(pron)\n",
    "    nuclei = []\n",
    "    onsets = []\n",
    "    i = -1\n",
    "    for (j, seg) in enumerate(mypron):\n",
    "        if seg in VOWELS:\n",
    "            nuclei.append([seg])\n",
    "            onsets.append(mypron[i + 1:j]) # actually interludes, r.n.\n",
    "            i = j                        \n",
    "    codas = [mypron[i + 1:]]\n",
    "    ## resolve disputes and compute coda\n",
    "    for i in xrange(1, len(onsets)):\n",
    "        coda = []\n",
    "        # boundary cases\n",
    "        if len(onsets[i]) > 1 and onsets[i][0] == 'R':\n",
    "            nuclei[i - 1].append(onsets[i].pop(0))\n",
    "        if len(onsets[i]) > 2 and onsets[i][-1] == 'Y':\n",
    "            nuclei[i].insert(0, onsets[i].pop())\n",
    "        if len(onsets[i]) > 1 and alaska_rule and nuclei[i-1][-1] in SLAX \\\n",
    "                                              and onsets[i][0] == 'S':\n",
    "            coda.append(onsets[i].pop(0))\n",
    "        # onset maximization\n",
    "        depth = 1\n",
    "        if len(onsets[i]) > 1:\n",
    "            if tuple(onsets[i][-2:]) in O2:\n",
    "                depth = 3 if tuple(onsets[i][-3:]) in O3 else 2\n",
    "        for j in xrange(len(onsets[i]) - depth):\n",
    "            coda.append(onsets[i].pop(0))\n",
    "        # store coda\n",
    "        codas.insert(i - 1, coda)\n",
    "\n",
    "    ## verify that all segments are included in the ouput\n",
    "    output = zip(onsets, nuclei, codas)\n",
    "    flat_output = list(chain.from_iterable(chain.from_iterable(output)))\n",
    "    if flat_output != mypron:\n",
    "        raise ValueError(\"could not syllabify {}, got {}\".format(mypron, \n",
    "                                                           flat_output))\n",
    "    return output\n",
    "\n",
    "\n",
    "def pprint(syllab):\n",
    "    \"\"\"\n",
    "    Pretty-print a syllabification\n",
    "    \"\"\"\n",
    "    return '.'.join('-'.join(' '.join(p) for p in syl) for syl in syllab)\n",
    "\n",
    "\n",
    "def destress(syllab):\n",
    "    \"\"\"\n",
    "    Generate a syllabification with nuclear stress information removed\n",
    "    \"\"\"\n",
    "    syls = []\n",
    "    for (onset, nucleus, coda) in syllab:\n",
    "        nuke = [p[:-1] if p[-1] in {'0', '1', '2'} else p for p in nucleus]\n",
    "        syls.append((onset, nuke, coda))\n",
    "    return syls\n",
    "\n",
    "\n",
    "# if __name__ == '__main__':\n",
    "#     import doctest\n",
    "#     doctest.testmod()"
   ]
  },
  {
   "cell_type": "code",
   "execution_count": null,
   "metadata": {
    "collapsed": false
   },
   "outputs": [],
   "source": []
  },
  {
   "cell_type": "code",
   "execution_count": null,
   "metadata": {
    "collapsed": false
   },
   "outputs": [],
   "source": []
  },
  {
   "cell_type": "code",
   "execution_count": 10,
   "metadata": {
    "collapsed": false
   },
   "outputs": [
    {
     "data": {
      "text/plain": [
       "['forgotten', 'spot', 'in', 'the', 'caribbean']"
      ]
     },
     "execution_count": 10,
     "metadata": {},
     "output_type": "execute_result"
    }
   ],
   "source": [
    "text = 'forgotten spot in the caribbean'.split()\n",
    "text"
   ]
  },
  {
   "cell_type": "code",
   "execution_count": null,
   "metadata": {
    "collapsed": false
   },
   "outputs": [],
   "source": [
    "\n"
   ]
  },
  {
   "cell_type": "code",
   "execution_count": 11,
   "metadata": {
    "collapsed": false
   },
   "outputs": [
    {
     "data": {
      "text/plain": [
       "OrderedDict([('forgotten', u'F ER0 G AA1 T AH0 N'),\n",
       "             ('spot', u'S P AA1 T'),\n",
       "             ('in', u'IH0 N'),\n",
       "             ('the', u'DH AH0'),\n",
       "             ('caribbean', u'K EH0 R IH1 B IY2 AH0 N')])"
      ]
     },
     "execution_count": 11,
     "metadata": {},
     "output_type": "execute_result"
    }
   ],
   "source": [
    "# Revisit for multiple line updates\n",
    "\n",
    "word_phonetic = OrderedDict()\n",
    "for word in text:\n",
    "    word_phonetic.update({word:pr.phones_for_word(word)[0]})\n",
    "\n",
    "word_phonetic"
   ]
  },
  {
   "cell_type": "code",
   "execution_count": 12,
   "metadata": {
    "collapsed": false
   },
   "outputs": [
    {
     "name": "stdout",
     "output_type": "stream",
     "text": [
      "OrderedDict([('forgotten', [([u'F'], [u'ER0'], []), ([u'G'], [u'AA1'], []), ([u'T'], [u'AH0'], [u'N'])]), ('spot', [([u'S', u'P'], [u'AA1'], [u'T'])]), ('in', [([], [u'IH0'], [u'N'])]), ('the', [([u'DH'], [u'AH0'], [])]), ('caribbean', [([u'K'], [u'EH0'], []), ([u'R'], [u'IH1'], []), ([u'B'], [u'IY2'], []), ([], [u'AH0'], [u'N'])])])\n"
     ]
    }
   ],
   "source": [
    "syll = OrderedDict()\n",
    "for key, val in word_phonetic.iteritems():\n",
    "    check = syllabify(val.split())\n",
    "#     temp = []\n",
    "#     for sound in check:\n",
    "#         check += sound\n",
    "    syll.update({key:check})\n",
    "\n",
    "print syll"
   ]
  },
  {
   "cell_type": "code",
   "execution_count": 13,
   "metadata": {
    "collapsed": false
   },
   "outputs": [
    {
     "name": "stdout",
     "output_type": "stream",
     "text": [
      "[[([u'F'], [u'ER0'], []), ([u'G'], [u'AA1'], []), ([u'T'], [u'AH0'], [u'N'])], [([u'S', u'P'], [u'AA1'], [u'T'])], [([], [u'IH0'], [u'N'])], [([u'DH'], [u'AH0'], [])], [([u'K'], [u'EH0'], []), ([u'R'], [u'IH1'], []), ([u'B'], [u'IY2'], []), ([], [u'AH0'], [u'N'])]]\n"
     ]
    }
   ],
   "source": [
    "print syll.values()"
   ]
  },
  {
   "cell_type": "code",
   "execution_count": 28,
   "metadata": {
    "collapsed": false
   },
   "outputs": [
    {
     "name": "stdout",
     "output_type": "stream",
     "text": [
      "[([u'F'], [u'ER0'], []), ([u'G'], [u'AA1'], []), ([u'T'], [u'AH0'], [u'N'])]\n",
      "[([u'S', u'P'], [u'AA1'], [u'T'])]\n",
      "[([], [u'IH0'], [u'N'])]\n",
      "[([u'DH'], [u'AH0'], [])]\n",
      "[([u'K'], [u'EH0'], []), ([u'R'], [u'IH1'], []), ([u'B'], [u'IY2'], []), ([], [u'AH0'], [u'N'])]\n",
      "['forgotten', 'spot', 'in', 'the', 'caribbean']\n"
     ]
    }
   ],
   "source": [
    "check = OrderedDict()\n",
    "for key, val in syll.iteritems():\n",
    "    print val\n",
    "    for sound in val:\n",
    "        temp = []\n",
    "        for a in sound:\n",
    "            temp += a\n",
    "#         print temp\n",
    "    check.update({key:temp})\n",
    "\n",
    "print check.keys()"
   ]
  },
  {
   "cell_type": "code",
   "execution_count": 27,
   "metadata": {
    "collapsed": false
   },
   "outputs": [
    {
     "name": "stdout",
     "output_type": "stream",
     "text": [
      "[[[u'F', u'ER0'], [u'G', u'AA1'], [u'T', u'AH0', u'N']], [[u'S', u'P', u'AA1', u'T']], [[u'IH0', u'N']], [[u'DH', u'AH0']], [[u'K', u'EH0'], [u'R', u'IH1'], [u'B', u'IY2'], [u'AH0', u'N']]]\n"
     ]
    }
   ],
   "source": [
    "check = OrderedDict()\n",
    "for key, val in syll.iteritems():\n",
    "    temp2 = []\n",
    "    for l in val:\n",
    "        temp = []\n",
    "        for b in l:\n",
    "            temp += b\n",
    "        temp2.append(temp)\n",
    "    check.update({key:temp2})\n",
    "\n",
    "print check.values()\n"
   ]
  },
  {
   "cell_type": "code",
   "execution_count": 29,
   "metadata": {
    "collapsed": false
   },
   "outputs": [
    {
     "name": "stdout",
     "output_type": "stream",
     "text": [
      "forgotten [u'T', u'AH0', u'N']\n",
      "spot [u'S', u'P', u'AA1', u'T']\n",
      "in [u'IH0', u'N']\n",
      "the [u'DH', u'AH0']\n",
      "caribbean [u'AH0', u'N']\n"
     ]
    }
   ],
   "source": [
    "for k, v in check.iteritems():\n",
    "    print k, v"
   ]
  },
  {
   "cell_type": "code",
   "execution_count": 17,
   "metadata": {
    "collapsed": false
   },
   "outputs": [
    {
     "name": "stdout",
     "output_type": "stream",
     "text": [
      "(10, 10)\n"
     ]
    }
   ],
   "source": [
    "def score_size(check):\n",
    "    size = 0\n",
    "    for word in check.values():\n",
    "        size += len(word)\n",
    "    return np.zeros((size,size))\n",
    "\n",
    "m = score_size(check)\n",
    "print m.shape"
   ]
  },
  {
   "cell_type": "code",
   "execution_count": null,
   "metadata": {
    "collapsed": true
   },
   "outputs": [],
   "source": []
  },
  {
   "cell_type": "code",
   "execution_count": 18,
   "metadata": {
    "collapsed": false
   },
   "outputs": [
    {
     "name": "stdout",
     "output_type": "stream",
     "text": [
      "[[-1.  0.  0.  0.  0.  0.  0.  0.  0.  0.]\n",
      " [ 0.  0.  0.  0.  0.  0.  0.  0.  0.  0.]\n",
      " [ 0.  0.  0.  0.  0.  0.  0.  0.  0.  0.]\n",
      " [ 0.  0.  0.  0.  0.  0.  0.  0.  0.  0.]\n",
      " [ 0.  0.  0.  0.  0.  0.  0.  0.  0.  0.]\n",
      " [ 0.  0.  0.  0.  0.  0.  0.  0.  0.  0.]\n",
      " [ 0.  0.  0.  0.  0.  0.  0.  0.  0.  0.]\n",
      " [ 0.  0.  0.  0.  0.  0.  0.  0.  0.  0.]\n",
      " [ 0.  0.  0.  0.  0.  0.  0.  0.  0.  0.]\n",
      " [ 0.  0.  0.  0.  0.  0.  0.  0.  0.  0.]]\n"
     ]
    }
   ],
   "source": [
    "def similarity_mat(check):\n",
    "    temp = check.values()\n",
    "    score = score_size(check)\n",
    "#     print score, '\\n'\n",
    "    col = []\n",
    "    row = []\n",
    "    for word1 in check.values():\n",
    "        col_ind = 0\n",
    "        for syl1 in word1:\n",
    "            col.append(syl1)\n",
    "            row_ind = 0\n",
    "            for word2 in temp:\n",
    "                if word1 != word2:\n",
    "                    for syl2 in word2:\n",
    "                        row.append(syl2)\n",
    "                        score[row_ind][col_ind] = 1\n",
    "                else:\n",
    "                    for syl2 in word2:\n",
    "                        row.append(syl2)\n",
    "                        score[row_ind][col_ind] = -1\n",
    "            row_ind += 1\n",
    "        col_ind +=1\n",
    "    return score, col, row\n",
    "\n",
    "a, b, c = similarity_mat(check)\n",
    "print a"
   ]
  },
  {
   "cell_type": "code",
   "execution_count": 19,
   "metadata": {
    "collapsed": false
   },
   "outputs": [
    {
     "data": {
      "text/plain": [
       "[[[u'F', u'ER0'], [u'G', u'AA1'], [u'T', u'AH0', u'N']],\n",
       " [[u'S', u'P', u'AA1', u'T']],\n",
       " [[u'IH0', u'N']],\n",
       " [[u'DH', u'AH0']],\n",
       " [[u'K', u'EH0'], [u'R', u'IH1'], [u'B', u'IY2'], [u'AH0', u'N']]]"
      ]
     },
     "execution_count": 19,
     "metadata": {},
     "output_type": "execute_result"
    }
   ],
   "source": [
    "check.values()"
   ]
  },
  {
   "cell_type": "code",
   "execution_count": 20,
   "metadata": {
    "collapsed": false
   },
   "outputs": [],
   "source": [
    "syls=[]\n",
    "for val in check.itervalues():\n",
    "    for syl in val:\n",
    "        syls.append(syl)\n",
    "        \n",
    "# for i, syl1 in enumerate(syls):\n",
    "#     for j , syl2 in enumer   syls:\n",
    "#         score(syl1,syl2)"
   ]
  },
  {
   "cell_type": "code",
   "execution_count": 37,
   "metadata": {
    "collapsed": false
   },
   "outputs": [
    {
     "data": {
      "text/plain": [
       "[[u'F', u'ER0'],\n",
       " [u'G', u'AA1'],\n",
       " [u'T', u'AH0', u'N'],\n",
       " [u'S', u'P', u'AA1', u'T'],\n",
       " [u'IH0', u'N'],\n",
       " [u'DH', u'AH0'],\n",
       " [u'K', u'EH0'],\n",
       " [u'R', u'IH1'],\n",
       " [u'B', u'IY2'],\n",
       " [u'AH0', u'N']]"
      ]
     },
     "execution_count": 37,
     "metadata": {},
     "output_type": "execute_result"
    }
   ],
   "source": [
    "syls"
   ]
  },
  {
   "cell_type": "code",
   "execution_count": null,
   "metadata": {
    "collapsed": true
   },
   "outputs": [],
   "source": []
  },
  {
   "cell_type": "code",
   "execution_count": null,
   "metadata": {
    "collapsed": true
   },
   "outputs": [],
   "source": []
  },
  {
   "cell_type": "code",
   "execution_count": 21,
   "metadata": {
    "collapsed": false
   },
   "outputs": [
    {
     "data": {
      "text/plain": [
       "[[[u'F', u'ER0'], [u'G', u'AA1'], [u'T', u'AH0', u'N']],\n",
       " [[u'S', u'P', u'AA1', u'T']],\n",
       " [[u'IH0', u'N']],\n",
       " [[u'DH', u'AH0']],\n",
       " [[u'K', u'EH0'], [u'R', u'IH1'], [u'B', u'IY2'], [u'AH0', u'N']]]"
      ]
     },
     "execution_count": 21,
     "metadata": {},
     "output_type": "execute_result"
    }
   ],
   "source": [
    "check.values()"
   ]
  },
  {
   "cell_type": "code",
   "execution_count": 22,
   "metadata": {
    "collapsed": false
   },
   "outputs": [
    {
     "name": "stdout",
     "output_type": "stream",
     "text": [
      "[[u'F', u'ER0'], [u'G', u'AA1'], [u'T', u'AH0', u'N'], [u'S', u'P', u'AA1', u'T'], [u'IH0', u'N'], [u'DH', u'AH0'], [u'K', u'EH0'], [u'R', u'IH1'], [u'B', u'IY2'], [u'AH0', u'N']] check \n",
      "\n"
     ]
    }
   ],
   "source": [
    "def syllable_list(check):\n",
    "    syl_list = []\n",
    "    for val in check.itervalues():\n",
    "        syl_list.extend(val)\n",
    "    print syl_list, 'check \\n'\n",
    "    return syl_list\n",
    "\n",
    "tt = syllable_list(check)"
   ]
  },
  {
   "cell_type": "code",
   "execution_count": 23,
   "metadata": {
    "collapsed": true
   },
   "outputs": [],
   "source": [
    "def score_size(check):\n",
    "    size = 0\n",
    "    for word in check.itervalues():\n",
    "        size += len(word)\n",
    "    return np.zeros((size,size))"
   ]
  },
  {
   "cell_type": "code",
   "execution_count": 24,
   "metadata": {
    "collapsed": true
   },
   "outputs": [],
   "source": [
    "def sound_intersect(phonetic1, phonetic2):\n",
    "    '''\n",
    "    Input: Two phonetic to be compared\n",
    "    Output: sound found in both phonetic\n",
    "\n",
    "    Find common sounds in the two phonetics\n",
    "    '''\n",
    "    return list(set(phonetic1) & set(phonetic2))"
   ]
  },
  {
   "cell_type": "code",
   "execution_count": 25,
   "metadata": {
    "collapsed": false
   },
   "outputs": [],
   "source": [
    "def is_vowel(text):\n",
    "    '''\n",
    "    Returns true if a character is a vowel\n",
    "    '''\n",
    "    vowels = 'aeiouAEIOU'\n",
    "    return [True if char in vowels else False for char in text]"
   ]
  },
  {
   "cell_type": "code",
   "execution_count": 26,
   "metadata": {
    "collapsed": true
   },
   "outputs": [],
   "source": [
    "def is_num(char = 'x'):\n",
    "    '''\n",
    "    Returns true if a character is a number\n",
    "    '''\n",
    "    return char.isdigit()"
   ]
  },
  {
   "cell_type": "code",
   "execution_count": 27,
   "metadata": {
    "collapsed": true
   },
   "outputs": [],
   "source": [
    "def vowel_score(sound):\n",
    "    '''\n",
    "    Input: Vowel phone\n",
    "    Output: Vowel phone score\n",
    "\n",
    "    Assigns score to a common phone vowel bewteen 2 words based on their stress.\n",
    "    '''\n",
    "    if sound[-1] > 0:\n",
    "        return len(sound) * 3\n",
    "    else:\n",
    "        return len(sound) + 2"
   ]
  },
  {
   "cell_type": "code",
   "execution_count": 28,
   "metadata": {
    "collapsed": false
   },
   "outputs": [],
   "source": [
    "def consonant_score(phonetic1, phonetic2, sound):\n",
    "    '''\n",
    "    Input: Consonant phone\n",
    "    Output: Consonant phone score\n",
    "\n",
    "    Assigns consonant phone score based on whether it is prefix or suffix\n",
    "    '''\n",
    "#     print sound\n",
    "    sound_loc = prefix_check(phonetic1, phonetic2, sound)\n",
    "    if sound_loc == 1:\n",
    "        return 1\n",
    "    elif sound_loc == 2:\n",
    "        return 2.5\n",
    "    else:\n",
    "        print 'content 0'\n",
    "        return 0"
   ]
  },
  {
   "cell_type": "code",
   "execution_count": 29,
   "metadata": {
    "collapsed": true
   },
   "outputs": [],
   "source": [
    "# This works\n",
    "\n",
    "def prefix_check(phonetic1, phonetic2, sound):\n",
    "    '''\n",
    "    Input: Two phonetic sounds with common element sound\n",
    "    Output: Bool if the sound is prefix\n",
    "\n",
    "    Checks whether a consonant is a prefix or suffix or didn't match either\n",
    "    1 - prefix, 2 - suffix, 0 - mix-match\n",
    "    '''\n",
    "    print '\\nsound check: {}'.format(sound)\n",
    "    ph1_len = [len(cons) for cons in phonetic1]\n",
    "    ph2_len = [len(cons) for cons in phonetic2]\n",
    "    ind1 = phonetic1.index(sound)\n",
    "    ind2 = phonetic2.index(sound)\n",
    "    if (ind1 < ph1_len.index(max(ph1_len))) and (ind2 < ph2_len.index(max(ph2_len))):\n",
    "        return 1\n",
    "    elif (ind1 > ph1_len.index(max(ph1_len))) and (ind2 > ph2_len.index(max(ph2_len))):\n",
    "        return 2\n",
    "    else:\n",
    "        return 0"
   ]
  },
  {
   "cell_type": "code",
   "execution_count": 30,
   "metadata": {
    "collapsed": true
   },
   "outputs": [],
   "source": [
    "def final_score(phonetic1, phonetic2, common_sounds):\n",
    "    '''\n",
    "    Input: 2 phonetic and list of common sounds between two phonetics\n",
    "    Output: Score based on phonetic sound\n",
    "\n",
    "    Calculates score for the common sounds\n",
    "    '''\n",
    "    points = 0\n",
    "    for sound in common_sounds:\n",
    "        if len(sound) > 1:\n",
    "            points += vowel_score(sound)\n",
    "        else:\n",
    "            points += consonant_score(phonetic1, phonetic2, sound)\n",
    "    return points"
   ]
  },
  {
   "cell_type": "code",
   "execution_count": 31,
   "metadata": {
    "collapsed": true
   },
   "outputs": [],
   "source": [
    "import copy \n",
    "def similarity_mat(syllable_dict):\n",
    "    syl_list1 = syllable_list(syllable_dict)\n",
    "    syl_list2 = copy.deepcopy(syl_list1)\n",
    "    score = score_size(syllable_dict)\n",
    "    for ind1, val1 in enumerate(syl_list1):\n",
    "        for ind2, val2 in enumerate(syl_list2):\n",
    "            if val1 != val2:\n",
    "                common_sound = sound_intersect(val1, val2)\n",
    "                if len(common_sound) > 0:\n",
    "                    points = final_score(val1, val2, common_sound)\n",
    "                    score[ind1][ind2] = points\n",
    "                else:\n",
    "                    score[ind1][ind2] = 0\n",
    "            else:\n",
    "                score[ind1][ind2] = -99\n",
    "    return score, syl_list1"
   ]
  },
  {
   "cell_type": "code",
   "execution_count": 32,
   "metadata": {
    "collapsed": false,
    "scrolled": true
   },
   "outputs": [
    {
     "name": "stdout",
     "output_type": "stream",
     "text": [
      "[[u'F', u'ER0'], [u'G', u'AA1'], [u'T', u'AH0', u'N'], [u'S', u'P', u'AA1', u'T'], [u'IH0', u'N'], [u'DH', u'AH0'], [u'K', u'EH0'], [u'R', u'IH1'], [u'B', u'IY2'], [u'AH0', u'N']] check \n",
      "\n",
      "\n",
      "sound check: T\n",
      "content 0\n",
      "\n",
      "sound check: N\n",
      "\n",
      "sound check: N\n",
      "\n",
      "sound check: T\n",
      "content 0\n",
      "\n",
      "sound check: N\n",
      "\n",
      "sound check: N\n",
      "\n",
      "sound check: N\n",
      "\n",
      "sound check: N\n"
     ]
    }
   ],
   "source": [
    "score, col = similarity_mat(check)"
   ]
  },
  {
   "cell_type": "code",
   "execution_count": 33,
   "metadata": {
    "collapsed": false
   },
   "outputs": [
    {
     "data": {
      "text/plain": [
       "array([[-99. ,   0. ,   0. ,   0. ,   0. ,   0. ,   0. ,   0. ,   0. ,   0. ],\n",
       "       [  0. , -99. ,   0. ,   9. ,   0. ,   0. ,   0. ,   0. ,   0. ,   0. ],\n",
       "       [  0. ,   0. , -99. ,   0. ,   2.5,   9. ,   0. ,   0. ,   0. ,\n",
       "         11.5],\n",
       "       [  0. ,   9. ,   0. , -99. ,   0. ,   0. ,   0. ,   0. ,   0. ,   0. ],\n",
       "       [  0. ,   0. ,   2.5,   0. , -99. ,   0. ,   0. ,   0. ,   0. ,\n",
       "          2.5],\n",
       "       [  0. ,   0. ,   9. ,   0. ,   0. , -99. ,   0. ,   0. ,   0. ,   9. ],\n",
       "       [  0. ,   0. ,   0. ,   0. ,   0. ,   0. , -99. ,   0. ,   0. ,   0. ],\n",
       "       [  0. ,   0. ,   0. ,   0. ,   0. ,   0. ,   0. , -99. ,   0. ,   0. ],\n",
       "       [  0. ,   0. ,   0. ,   0. ,   0. ,   0. ,   0. ,   0. , -99. ,   0. ],\n",
       "       [  0. ,   0. ,  11.5,   0. ,   2.5,   9. ,   0. ,   0. ,   0. , -99. ]])"
      ]
     },
     "execution_count": 33,
     "metadata": {},
     "output_type": "execute_result"
    }
   ],
   "source": [
    "score"
   ]
  },
  {
   "cell_type": "code",
   "execution_count": 34,
   "metadata": {
    "collapsed": false
   },
   "outputs": [
    {
     "data": {
      "text/plain": [
       "array([[ True,  True,  True,  True,  True,  True,  True,  True,  True,\n",
       "         True],\n",
       "       [ True,  True,  True,  True,  True,  True,  True,  True,  True,\n",
       "         True],\n",
       "       [ True,  True,  True,  True,  True,  True,  True,  True,  True,\n",
       "         True],\n",
       "       [ True,  True,  True,  True,  True,  True,  True,  True,  True,\n",
       "         True],\n",
       "       [ True,  True,  True,  True,  True,  True,  True,  True,  True,\n",
       "         True],\n",
       "       [ True,  True,  True,  True,  True,  True,  True,  True,  True,\n",
       "         True],\n",
       "       [ True,  True,  True,  True,  True,  True,  True,  True,  True,\n",
       "         True],\n",
       "       [ True,  True,  True,  True,  True,  True,  True,  True,  True,\n",
       "         True],\n",
       "       [ True,  True,  True,  True,  True,  True,  True,  True,  True,\n",
       "         True],\n",
       "       [ True,  True,  True,  True,  True,  True,  True,  True,  True,\n",
       "         True]], dtype=bool)"
      ]
     },
     "execution_count": 34,
     "metadata": {},
     "output_type": "execute_result"
    }
   ],
   "source": [
    "score == score.T"
   ]
  },
  {
   "cell_type": "code",
   "execution_count": 35,
   "metadata": {
    "collapsed": false
   },
   "outputs": [
    {
     "name": "stdout",
     "output_type": "stream",
     "text": [
      "2.5\n",
      "2.5\n"
     ]
    }
   ],
   "source": [
    "print score[2][4]\n",
    "print score[4][2]"
   ]
  },
  {
   "cell_type": "code",
   "execution_count": 36,
   "metadata": {
    "collapsed": false
   },
   "outputs": [
    {
     "name": "stdout",
     "output_type": "stream",
     "text": [
      "['got', 'me', 'breathing', 'with', 'dragons', 'i', 'crack', 'the', 'egg', 'in', 'your', 'basket', 'you', 'bastard', \"'m\", 'marilyn', 'manson', 'madness', 'now', 'just', 'imagine', 'magic', 'light', 'to', 'asses', 'do', 'ask', 'for', 'favorite', 'rapper']\n"
     ]
    }
   ],
   "source": [
    "lines = OrderedDict([('got', [[u'G', u'AA1', u'T']]),\n",
    "             ('me', [[u'M', u'IY1']]),\n",
    "             ('breathing', [[u'B', u'R', u'IY1'], [u'DH', u'IH0', u'NG']]),\n",
    "             ('with', [[u'W', u'IH1', u'DH']]),\n",
    "             ('dragons', [[u'D', u'R', u'AE1'], [u'G', u'AH0', u'N', u'Z']]),\n",
    "             ('i', [[u'AY1']]),\n",
    "             ('crack', [[u'K', u'R', u'AE1', u'K']]),\n",
    "             ('the', [[u'DH', u'AH0']]),\n",
    "             ('egg', [[u'EH1', u'G']]),\n",
    "             ('in', [[u'IH0', u'N']]),\n",
    "             ('your', [[u'Y', u'AO1', u'R']]),\n",
    "             ('basket', [[u'B', u'AE1', u'S'], [u'K', u'AH0', u'T']]),\n",
    "             ('you', [[u'Y', u'UW1']]),\n",
    "             ('bastard', [[u'B', u'AE1', u'S'], [u'T', u'ER0', u'D']]),\n",
    "             (\"'m\", [[u'AH0', u'M']]),\n",
    "             ('marilyn',\n",
    "              [[u'M', u'EH1'], [u'R', u'AH0'], [u'L', u'AH0', u'N']]),\n",
    "             ('manson', [[u'M', u'AE1', u'N'], [u'S', u'AH0', u'N']]),\n",
    "             ('madness', [[u'M', u'AE1', u'D'], [u'N', u'AH0', u'S']]),\n",
    "             ('now', [[u'N', u'AW1']]),\n",
    "             ('just', [[u'JH', u'AH1', u'S', u'T']]),\n",
    "             ('imagine', [[u'IH2'], [u'M', u'AE1'], [u'JH', u'AH0', u'N']]),\n",
    "             ('magic', [[u'M', u'AE1'], [u'JH', u'IH0', u'K']]),\n",
    "             ('light', [[u'L', u'AY1', u'T']]),\n",
    "             ('to', [[u'T', u'UW1']]),\n",
    "             ('asses', [[u'AE1'], [u'S', u'AH0', u'Z']]),\n",
    "             ('do', [[u'D', u'UW1']]),\n",
    "             ('ask', [[u'AE1', u'S', u'K']]),\n",
    "             ('for', [[u'F', u'AO1', u'R']]),\n",
    "             ('favorite', [[u'F', u'EY1'], [u'V', u'ER0'], [u'IH0', u'T']]),\n",
    "             ('rapper', [[u'R', u'AE1'], [u'P', u'ER0']])])\n",
    "\n",
    "print lines.keys()"
   ]
  },
  {
   "cell_type": "code",
   "execution_count": 37,
   "metadata": {
    "collapsed": false
   },
   "outputs": [
    {
     "name": "stdout",
     "output_type": "stream",
     "text": [
      "[[u'G', u'AA1', u'T']]\n",
      "[[u'M', u'IY1']]\n",
      "[[u'B', u'R', u'IY1'], [u'DH', u'IH0', u'NG']]\n",
      "[[u'W', u'IH1', u'DH']]\n",
      "[[u'D', u'R', u'AE1'], [u'G', u'AH0', u'N', u'Z']]\n",
      "[[u'AY1']]\n",
      "[[u'K', u'R', u'AE1', u'K']]\n",
      "[[u'DH', u'AH0']]\n",
      "[[u'EH1', u'G']]\n",
      "[[u'IH0', u'N']]\n",
      "[[u'Y', u'AO1', u'R']]\n",
      "[[u'B', u'AE1', u'S'], [u'K', u'AH0', u'T']]\n",
      "[[u'Y', u'UW1']]\n",
      "[[u'B', u'AE1', u'S'], [u'T', u'ER0', u'D']]\n",
      "[[u'AH0', u'M']]\n",
      "[[u'M', u'EH1'], [u'R', u'AH0'], [u'L', u'AH0', u'N']]\n",
      "[[u'M', u'AE1', u'N'], [u'S', u'AH0', u'N']]\n",
      "[[u'M', u'AE1', u'D'], [u'N', u'AH0', u'S']]\n",
      "[[u'N', u'AW1']]\n",
      "[[u'JH', u'AH1', u'S', u'T']]\n",
      "[[u'IH2'], [u'M', u'AE1'], [u'JH', u'AH0', u'N']]\n",
      "[[u'M', u'AE1'], [u'JH', u'IH0', u'K']]\n",
      "[[u'L', u'AY1', u'T']]\n",
      "[[u'T', u'UW1']]\n",
      "[[u'AE1'], [u'S', u'AH0', u'Z']]\n",
      "[[u'D', u'UW1']]\n",
      "[[u'AE1', u'S', u'K']]\n",
      "[[u'F', u'AO1', u'R']]\n",
      "[[u'F', u'EY1'], [u'V', u'ER0'], [u'IH0', u'T']]\n",
      "[[u'R', u'AE1'], [u'P', u'ER0']]\n"
     ]
    }
   ],
   "source": [
    "for val in lines.itervalues():\n",
    "    print val"
   ]
  },
  {
   "cell_type": "code",
   "execution_count": null,
   "metadata": {
    "collapsed": true
   },
   "outputs": [],
   "source": []
  },
  {
   "cell_type": "code",
   "execution_count": null,
   "metadata": {
    "collapsed": true
   },
   "outputs": [],
   "source": []
  },
  {
   "cell_type": "code",
   "execution_count": null,
   "metadata": {
    "collapsed": true
   },
   "outputs": [],
   "source": []
  },
  {
   "cell_type": "code",
   "execution_count": null,
   "metadata": {
    "collapsed": true
   },
   "outputs": [],
   "source": []
  },
  {
   "cell_type": "code",
   "execution_count": 38,
   "metadata": {
    "collapsed": false
   },
   "outputs": [
    {
     "data": {
      "text/plain": [
       "[[[u'F', u'ER0'], [u'G', u'AA1'], [u'T', u'AH0', u'N']],\n",
       " [[u'S', u'P', u'AA1', u'T']],\n",
       " [[u'IH0', u'N']],\n",
       " [[u'DH', u'AH0']],\n",
       " [[u'K', u'EH0'], [u'R', u'IH1'], [u'B', u'IY2'], [u'AH0', u'N']]]"
      ]
     },
     "execution_count": 38,
     "metadata": {},
     "output_type": "execute_result"
    }
   ],
   "source": [
    "check.values()"
   ]
  },
  {
   "cell_type": "code",
   "execution_count": 39,
   "metadata": {
    "collapsed": false,
    "scrolled": true
   },
   "outputs": [
    {
     "name": "stdout",
     "output_type": "stream",
     "text": [
      "[u'S', u'P', u'AA1', u'T'] [u'T', u'AH0', u'N']\n"
     ]
    }
   ],
   "source": [
    "a = check.values()[1][0]\n",
    "b = check.values()[0][2]\n",
    "print a, b"
   ]
  },
  {
   "cell_type": "code",
   "execution_count": 186,
   "metadata": {
    "collapsed": false
   },
   "outputs": [
    {
     "name": "stdout",
     "output_type": "stream",
     "text": [
      "[u'T']\n"
     ]
    }
   ],
   "source": [
    "c =sound_intersect(a, b)\n",
    "print c"
   ]
  },
  {
   "cell_type": "code",
   "execution_count": 191,
   "metadata": {
    "collapsed": false
   },
   "outputs": [
    {
     "name": "stdout",
     "output_type": "stream",
     "text": [
      "\n",
      " sound check: T\n"
     ]
    },
    {
     "data": {
      "text/plain": [
       "0"
      ]
     },
     "execution_count": 191,
     "metadata": {},
     "output_type": "execute_result"
    }
   ],
   "source": [
    "s = final_score(a, b, c)\n",
    "s"
   ]
  },
  {
   "cell_type": "code",
   "execution_count": 169,
   "metadata": {
    "collapsed": false
   },
   "outputs": [
    {
     "data": {
      "text/plain": [
       "9"
      ]
     },
     "execution_count": 169,
     "metadata": {},
     "output_type": "execute_result"
    }
   ],
   "source": [
    "v = vowel_score(c[0])\n",
    "v"
   ]
  },
  {
   "cell_type": "code",
   "execution_count": null,
   "metadata": {
    "collapsed": true
   },
   "outputs": [],
   "source": [
    "a"
   ]
  },
  {
   "cell_type": "code",
   "execution_count": 194,
   "metadata": {
    "collapsed": true
   },
   "outputs": [],
   "source": [
    "## Test for multiple lines entries"
   ]
  },
  {
   "cell_type": "code",
   "execution_count": 201,
   "metadata": {
    "collapsed": false
   },
   "outputs": [
    {
     "data": {
      "text/plain": [
       "OrderedDict([('forgotten',\n",
       "              [[u'F', u'ER0'], [u'G', u'AA1'], [u'T', u'AH0', u'N']]),\n",
       "             ('spot', [[u'S', u'P', u'AA1', u'T']]),\n",
       "             ('in', [[u'IH0', u'N']]),\n",
       "             ('the', [[u'DH', u'AH0']]),\n",
       "             ('caribbean',\n",
       "              [[u'K', u'EH0'],\n",
       "               [u'R', u'IH1'],\n",
       "               [u'B', u'IY2'],\n",
       "               [u'AH0', u'N']])])"
      ]
     },
     "execution_count": 201,
     "metadata": {},
     "output_type": "execute_result"
    }
   ],
   "source": [
    "check"
   ]
  },
  {
   "cell_type": "code",
   "execution_count": 217,
   "metadata": {
    "collapsed": false
   },
   "outputs": [
    {
     "name": "stdout",
     "output_type": "stream",
     "text": [
      "[u'F', u'ER0']\n",
      "[u'S', u'P', u'AA1', u'T']\n",
      "[u'IH0', u'N']\n",
      "[u'DH', u'AH0']\n",
      "[u'K', u'EH0']\n",
      "[u'F', u'ER0']\n",
      "[u'S', u'P', u'AA1', u'T']\n",
      "[u'IH0', u'N']\n",
      "[u'DH', u'AH0']\n",
      "[u'K', u'EH0']\n"
     ]
    }
   ],
   "source": [
    "test = check.values()\n",
    "test.extend(test)\n",
    "for a in test:\n",
    "    print a[0]"
   ]
  },
  {
   "cell_type": "code",
   "execution_count": null,
   "metadata": {
    "collapsed": true
   },
   "outputs": [],
   "source": []
  },
  {
   "cell_type": "code",
   "execution_count": null,
   "metadata": {
    "collapsed": true
   },
   "outputs": [],
   "source": []
  },
  {
   "cell_type": "code",
   "execution_count": null,
   "metadata": {
    "collapsed": true
   },
   "outputs": [],
   "source": []
  },
  {
   "cell_type": "code",
   "execution_count": null,
   "metadata": {
    "collapsed": true
   },
   "outputs": [],
   "source": []
  },
  {
   "cell_type": "code",
   "execution_count": null,
   "metadata": {
    "collapsed": true
   },
   "outputs": [],
   "source": []
  },
  {
   "cell_type": "code",
   "execution_count": null,
   "metadata": {
    "collapsed": true
   },
   "outputs": [],
   "source": []
  },
  {
   "cell_type": "code",
   "execution_count": null,
   "metadata": {
    "collapsed": true
   },
   "outputs": [],
   "source": []
  },
  {
   "cell_type": "code",
   "execution_count": 126,
   "metadata": {
    "collapsed": false
   },
   "outputs": [
    {
     "data": {
      "text/plain": [
       "[[u'F', u'ER0'],\n",
       " [u'G', u'AA1'],\n",
       " [u'T', u'AH0', u'N'],\n",
       " [u'S', u'P', u'AA1', u'T'],\n",
       " [u'IH0', u'N'],\n",
       " [u'DH', u'AH0'],\n",
       " [u'K', u'EH0'],\n",
       " [u'R', u'IH1'],\n",
       " [u'B', u'IY2'],\n",
       " [u'AH0', u'N']]"
      ]
     },
     "execution_count": 126,
     "metadata": {},
     "output_type": "execute_result"
    }
   ],
   "source": [
    "col"
   ]
  },
  {
   "cell_type": "code",
   "execution_count": 127,
   "metadata": {
    "collapsed": false
   },
   "outputs": [
    {
     "data": {
      "text/plain": [
       "array([[-99.,   0.,   0.,   0.,   0.,   0.,   0.,   0.,   0.,   0.],\n",
       "       [  0., -99.,   0.,   9.,   0.,   0.,   0.,   0.,   0.,   0.],\n",
       "       [  0.,   0., -99.,   1.,   2.,   9.,   0.,   0.,   0.,  11.],\n",
       "       [  0.,   9.,   2., -99.,   0.,   0.,   0.,   0.,   0.,   0.],\n",
       "       [  0.,   0.,   1.,   0., -99.,   0.,   0.,   0.,   0.,   2.],\n",
       "       [  0.,   0.,   9.,   0.,   0., -99.,   0.,   0.,   0.,   9.],\n",
       "       [  0.,   0.,   0.,   0.,   0.,   0., -99.,   0.,   0.,   0.],\n",
       "       [  0.,   0.,   0.,   0.,   0.,   0.,   0., -99.,   0.,   0.],\n",
       "       [  0.,   0.,   0.,   0.,   0.,   0.,   0.,   0., -99.,   0.],\n",
       "       [  0.,   0.,  10.,   0.,   2.,   9.,   0.,   0.,   0., -99.]])"
      ]
     },
     "execution_count": 127,
     "metadata": {},
     "output_type": "execute_result"
    }
   ],
   "source": [
    "score"
   ]
  },
  {
   "cell_type": "code",
   "execution_count": 74,
   "metadata": {
    "collapsed": false
   },
   "outputs": [
    {
     "data": {
      "text/plain": [
       "(10, 10)"
      ]
     },
     "execution_count": 74,
     "metadata": {},
     "output_type": "execute_result"
    }
   ],
   "source": [
    "score.shape"
   ]
  },
  {
   "cell_type": "code",
   "execution_count": null,
   "metadata": {
    "collapsed": true
   },
   "outputs": [],
   "source": []
  },
  {
   "cell_type": "code",
   "execution_count": 128,
   "metadata": {
    "collapsed": false
   },
   "outputs": [
    {
     "data": {
      "text/plain": [
       "[u'S', u'P', u'AA1', u'T']"
      ]
     },
     "execution_count": 128,
     "metadata": {},
     "output_type": "execute_result"
    }
   ],
   "source": [
    "tt = col[3]\n",
    "tt"
   ]
  },
  {
   "cell_type": "code",
   "execution_count": 105,
   "metadata": {
    "collapsed": false
   },
   "outputs": [
    {
     "data": {
      "text/plain": [
       "[1, 1, 3, 1]"
      ]
     },
     "execution_count": 105,
     "metadata": {},
     "output_type": "execute_result"
    }
   ],
   "source": [
    "see = [len(ph) for ph in tt]\n",
    "see"
   ]
  },
  {
   "cell_type": "code",
   "execution_count": 133,
   "metadata": {
    "collapsed": true
   },
   "outputs": [],
   "source": []
  },
  {
   "cell_type": "code",
   "execution_count": 134,
   "metadata": {
    "collapsed": false
   },
   "outputs": [
    {
     "name": "stdout",
     "output_type": "stream",
     "text": [
      "[u'T', u'AH0', u'N'] 2\n",
      "[u'AH0', u'N'] 2\n",
      "[u'T', u'AH0', u'N'] 2\n",
      "[u'AH0', u'N'] 2\n"
     ]
    }
   ],
   "source": [
    "for s in c:\n",
    "    print a, prefix_check(a, b, c[1])\n",
    "    print b, prefix_check(a, b, c[1])"
   ]
  },
  {
   "cell_type": "code",
   "execution_count": 131,
   "metadata": {
    "collapsed": false
   },
   "outputs": [
    {
     "data": {
      "text/plain": [
       "[u'AH0', u'N']"
      ]
     },
     "execution_count": 131,
     "metadata": {},
     "output_type": "execute_result"
    }
   ],
   "source": [
    "c"
   ]
  },
  {
   "cell_type": "code",
   "execution_count": null,
   "metadata": {
    "collapsed": true
   },
   "outputs": [],
   "source": []
  },
  {
   "cell_type": "code",
   "execution_count": null,
   "metadata": {
    "collapsed": true
   },
   "outputs": [],
   "source": []
  },
  {
   "cell_type": "code",
   "execution_count": 40,
   "metadata": {
    "collapsed": false
   },
   "outputs": [
    {
     "data": {
      "text/plain": [
       "[[u'F', u'ER0'],\n",
       " [u'G', u'AA1'],\n",
       " [u'T', u'AH0', u'N'],\n",
       " [u'S', u'P', u'AA1', u'T'],\n",
       " [u'IH0', u'N'],\n",
       " [u'DH', u'AH0'],\n",
       " [u'K', u'EH0'],\n",
       " [u'R', u'IH1'],\n",
       " [u'B', u'IY2'],\n",
       " [u'AH0', u'N']]"
      ]
     },
     "execution_count": 40,
     "metadata": {},
     "output_type": "execute_result"
    }
   ],
   "source": [
    "tt"
   ]
  },
  {
   "cell_type": "code",
   "execution_count": 42,
   "metadata": {
    "collapsed": false
   },
   "outputs": [
    {
     "name": "stdout",
     "output_type": "stream",
     "text": [
      "['a', 'v', 'c', 'd'] ['c', 'v', 'a', 'd']\n"
     ]
    }
   ],
   "source": [
    "a = ['a', 'v', 'c', 'd']\n",
    "b = ['c', 'v','a', 'd']\n",
    "print a, b"
   ]
  },
  {
   "cell_type": "code",
   "execution_count": 43,
   "metadata": {
    "collapsed": false
   },
   "outputs": [
    {
     "data": {
      "text/plain": [
       "['a', 'c', 'd', 'v']"
      ]
     },
     "execution_count": 43,
     "metadata": {},
     "output_type": "execute_result"
    }
   ],
   "source": [
    "c = list(set(a) & set(b))\n",
    "c"
   ]
  },
  {
   "cell_type": "code",
   "execution_count": 45,
   "metadata": {
    "collapsed": false
   },
   "outputs": [
    {
     "name": "stdout",
     "output_type": "stream",
     "text": [
      "0\n",
      "2\n"
     ]
    }
   ],
   "source": [
    "print a.index(c[0])\n",
    "print b.index(c[0])"
   ]
  },
  {
   "cell_type": "code",
   "execution_count": null,
   "metadata": {
    "collapsed": true
   },
   "outputs": [],
   "source": []
  },
  {
   "cell_type": "code",
   "execution_count": null,
   "metadata": {
    "collapsed": true
   },
   "outputs": [],
   "source": []
  },
  {
   "cell_type": "code",
   "execution_count": null,
   "metadata": {
    "collapsed": true
   },
   "outputs": [],
   "source": []
  },
  {
   "cell_type": "code",
   "execution_count": null,
   "metadata": {
    "collapsed": true
   },
   "outputs": [],
   "source": []
  },
  {
   "cell_type": "code",
   "execution_count": null,
   "metadata": {
    "collapsed": true
   },
   "outputs": [],
   "source": []
  },
  {
   "cell_type": "code",
   "execution_count": null,
   "metadata": {
    "collapsed": true
   },
   "outputs": [],
   "source": []
  },
  {
   "cell_type": "code",
   "execution_count": null,
   "metadata": {
    "collapsed": true
   },
   "outputs": [],
   "source": []
  },
  {
   "cell_type": "code",
   "execution_count": null,
   "metadata": {
    "collapsed": true
   },
   "outputs": [],
   "source": []
  },
  {
   "cell_type": "code",
   "execution_count": 45,
   "metadata": {
    "collapsed": false
   },
   "outputs": [
    {
     "data": {
      "text/plain": [
       "(2, 3)"
      ]
     },
     "execution_count": 45,
     "metadata": {},
     "output_type": "execute_result"
    }
   ],
   "source": [
    "testing = np.array([[1,2,3],[4,5,6]])\n",
    "testing.shape"
   ]
  },
  {
   "cell_type": "code",
   "execution_count": 47,
   "metadata": {
    "collapsed": false
   },
   "outputs": [
    {
     "name": "stdout",
     "output_type": "stream",
     "text": [
      "[[1 2 9]\n",
      " [4 5 6]]\n"
     ]
    }
   ],
   "source": [
    "testing[0][2] = 3**2\n",
    "print testing"
   ]
  },
  {
   "cell_type": "code",
   "execution_count": null,
   "metadata": {
    "collapsed": true
   },
   "outputs": [],
   "source": []
  },
  {
   "cell_type": "code",
   "execution_count": null,
   "metadata": {
    "collapsed": true
   },
   "outputs": [],
   "source": []
  },
  {
   "cell_type": "code",
   "execution_count": 50,
   "metadata": {
    "collapsed": false
   },
   "outputs": [
    {
     "name": "stdout",
     "output_type": "stream",
     "text": [
      "<generator object iteritems at 0x7f962a325870>\n",
      "0 ('forgotten', [[u'F', u'ER0'], [u'G', u'AA1'], [u'T', u'AH0', u'N']])\n",
      "forgotten check\n"
     ]
    },
    {
     "ename": "TypeError",
     "evalue": "'generator' object has no attribute '__getitem__'",
     "output_type": "error",
     "traceback": [
      "\u001b[0;31m---------------------------------------------------------------------------\u001b[0m",
      "\u001b[0;31mTypeError\u001b[0m                                 Traceback (most recent call last)",
      "\u001b[0;32m<ipython-input-50-03021e9610e5>\u001b[0m in \u001b[0;36m<module>\u001b[0;34m()\u001b[0m\n\u001b[1;32m      7\u001b[0m         \u001b[0;32mfor\u001b[0m \u001b[0msound\u001b[0m \u001b[0;32min\u001b[0m \u001b[0mval\u001b[0m\u001b[0;34m:\u001b[0m\u001b[0;34m\u001b[0m\u001b[0m\n\u001b[1;32m      8\u001b[0m             \u001b[0;32mprint\u001b[0m \u001b[0msound\u001b[0m\u001b[0;34m,\u001b[0m \u001b[0;34m'check'\u001b[0m\u001b[0;34m\u001b[0m\u001b[0m\n\u001b[0;32m----> 9\u001b[0;31m             \u001b[0mcomp\u001b[0m \u001b[0;34m=\u001b[0m \u001b[0msounds\u001b[0m\u001b[0;34m[\u001b[0m\u001b[0mind\u001b[0m\u001b[0;34m+\u001b[0m\u001b[0;36m1\u001b[0m\u001b[0;34m]\u001b[0m\u001b[0;34m\u001b[0m\u001b[0m\n\u001b[0m\u001b[1;32m     10\u001b[0m             \u001b[0;32mfor\u001b[0m \u001b[0mv\u001b[0m \u001b[0;32min\u001b[0m \u001b[0mcomp\u001b[0m\u001b[0;34m:\u001b[0m\u001b[0;34m\u001b[0m\u001b[0m\n\u001b[1;32m     11\u001b[0m                 \u001b[0;32mprint\u001b[0m \u001b[0msound\u001b[0m\u001b[0;34m,\u001b[0m \u001b[0mv\u001b[0m\u001b[0;34m\u001b[0m\u001b[0m\n",
      "\u001b[0;31mTypeError\u001b[0m: 'generator' object has no attribute '__getitem__'"
     ]
    }
   ],
   "source": [
    "n = len(check.values())\n",
    "sounds = check.vl()\n",
    "print sounds\n",
    "for ind, val in enumerate(sounds):\n",
    "    print ind, val\n",
    "    while ind < n:\n",
    "        for sound in val:\n",
    "            print sound, 'check'\n",
    "            comp = sounds[ind+1]\n",
    "            for v in comp:\n",
    "                print sound, v"
   ]
  },
  {
   "cell_type": "code",
   "execution_count": null,
   "metadata": {
    "collapsed": false
   },
   "outputs": [],
   "source": [
    "# n = len(check.values())\n",
    "# for ind, val in enumerate(check.values()):\n",
    "#     print ind, val, '\\n\\n\\n'\n",
    "#     while ind < n:\n",
    "#         for sound in val:\n",
    "#             for comp in check.values()[ind+1]\n",
    "#             print list(set(sound) & set()"
   ]
  },
  {
   "cell_type": "code",
   "execution_count": null,
   "metadata": {
    "collapsed": false
   },
   "outputs": [],
   "source": [
    "print list(set(check.values()[0]) & set(check.values()[4]))"
   ]
  },
  {
   "cell_type": "code",
   "execution_count": null,
   "metadata": {
    "collapsed": false
   },
   "outputs": [],
   "source": [
    "n = len(check.values())\n",
    "n"
   ]
  },
  {
   "cell_type": "code",
   "execution_count": null,
   "metadata": {
    "collapsed": true
   },
   "outputs": [],
   "source": []
  },
  {
   "cell_type": "code",
   "execution_count": null,
   "metadata": {
    "collapsed": true
   },
   "outputs": [],
   "source": []
  },
  {
   "cell_type": "code",
   "execution_count": 240,
   "metadata": {
    "collapsed": true
   },
   "outputs": [],
   "source": [
    "from ScoreMechanism import ScoreMechanism\n",
    "from PrepareText import PrepareText"
   ]
  },
  {
   "cell_type": "code",
   "execution_count": 241,
   "metadata": {
    "collapsed": false
   },
   "outputs": [
    {
     "name": "stdout",
     "output_type": "stream",
     "text": [
      "list index out of range\n"
     ]
    }
   ],
   "source": [
    "text = PrepareText('lyrics/test.md')\n",
    "score = ScoreMechanism(text.lyrics_tokenized, text.syllable_dict)"
   ]
  },
  {
   "cell_type": "code",
   "execution_count": 243,
   "metadata": {
    "collapsed": false
   },
   "outputs": [
    {
     "data": {
      "text/plain": [
       "[[u'F', u'ER0'],\n",
       " [u'G', u'AA1'],\n",
       " [u'T', u'AH0', u'N'],\n",
       " [u'S', u'P', u'AA1', u'T'],\n",
       " [u'IH0', u'N']]"
      ]
     },
     "execution_count": 243,
     "metadata": {},
     "output_type": "execute_result"
    }
   ],
   "source": [
    "score.col"
   ]
  },
  {
   "cell_type": "code",
   "execution_count": 242,
   "metadata": {
    "collapsed": false
   },
   "outputs": [
    {
     "data": {
      "text/plain": [
       "array([[ 0. ,  0. ,  0. ,  0. ,  0. ],\n",
       "       [ 0. ,  0. ,  0. ,  9. ,  0. ],\n",
       "       [ 0. ,  0. ,  0. ,  0. ,  2.5],\n",
       "       [ 0. ,  9. ,  0. ,  0. ,  0. ],\n",
       "       [ 0. ,  0. ,  0. ,  0. ,  0. ]])"
      ]
     },
     "execution_count": 242,
     "metadata": {},
     "output_type": "execute_result"
    }
   ],
   "source": [
    "score.adjacency_matrix"
   ]
  },
  {
   "cell_type": "code",
   "execution_count": 244,
   "metadata": {
    "collapsed": false
   },
   "outputs": [
    {
     "name": "stdout",
     "output_type": "stream",
     "text": [
      "[u'T', u'AH0', u'N']\n",
      "[u'IH0', u'N']\n"
     ]
    }
   ],
   "source": [
    "print score.col[2]\n",
    "print score.col[4]"
   ]
  },
  {
   "cell_type": "code",
   "execution_count": 258,
   "metadata": {
    "collapsed": false
   },
   "outputs": [
    {
     "name": "stdout",
     "output_type": "stream",
     "text": [
      "[u'T', u'AH0', u'N']\n",
      "[u'IH0', u'N']\n",
      "[u'N']\n"
     ]
    }
   ],
   "source": [
    "a = score.col[2]\n",
    "b = score.col[4]\n",
    "c = sound_intersect(a, b)\n",
    "print a\n",
    "print b\n",
    "print c"
   ]
  },
  {
   "cell_type": "code",
   "execution_count": 260,
   "metadata": {
    "collapsed": false
   },
   "outputs": [
    {
     "name": "stdout",
     "output_type": "stream",
     "text": [
      "\n",
      "sound check: N\n",
      "2.5\n",
      "\n",
      "sound check: N\n",
      "2.5\n"
     ]
    }
   ],
   "source": [
    "print final_score(a,b,c)\n",
    "print final_score(b,a,c)"
   ]
  },
  {
   "cell_type": "code",
   "execution_count": 261,
   "metadata": {
    "collapsed": false
   },
   "outputs": [
    {
     "name": "stdout",
     "output_type": "stream",
     "text": [
      "[u'T', u'AH0', u'N']\n",
      "[u'IH0', u'N']\n",
      "[u'N']\n",
      "\n",
      "sound check: [u'N']\n"
     ]
    },
    {
     "ename": "ValueError",
     "evalue": "[u'N'] is not in list",
     "output_type": "error",
     "traceback": [
      "\u001b[0;31m---------------------------------------------------------------------------\u001b[0m",
      "\u001b[0;31mValueError\u001b[0m                                Traceback (most recent call last)",
      "\u001b[0;32m<ipython-input-261-472929326f95>\u001b[0m in \u001b[0;36m<module>\u001b[0;34m()\u001b[0m\n\u001b[1;32m      3\u001b[0m \u001b[0;32mprint\u001b[0m \u001b[0mc\u001b[0m\u001b[0;34m\u001b[0m\u001b[0m\n\u001b[1;32m      4\u001b[0m \u001b[0;31m# print prefix_check(a,b,c)\u001b[0m\u001b[0;34m\u001b[0m\u001b[0;34m\u001b[0m\u001b[0m\n\u001b[0;32m----> 5\u001b[0;31m \u001b[0;32mprint\u001b[0m \u001b[0mprefix_check\u001b[0m\u001b[0;34m(\u001b[0m\u001b[0mb\u001b[0m\u001b[0;34m,\u001b[0m\u001b[0ma\u001b[0m\u001b[0;34m,\u001b[0m\u001b[0mc\u001b[0m\u001b[0;34m)\u001b[0m\u001b[0;34m\u001b[0m\u001b[0m\n\u001b[0m",
      "\u001b[0;32m<ipython-input-254-15bd02bfb342>\u001b[0m in \u001b[0;36mprefix_check\u001b[0;34m(phonetic1, phonetic2, sound)\u001b[0m\n\u001b[1;32m     12\u001b[0m     \u001b[0mph1_len\u001b[0m \u001b[0;34m=\u001b[0m \u001b[0;34m[\u001b[0m\u001b[0mlen\u001b[0m\u001b[0;34m(\u001b[0m\u001b[0mcons\u001b[0m\u001b[0;34m)\u001b[0m \u001b[0;32mfor\u001b[0m \u001b[0mcons\u001b[0m \u001b[0;32min\u001b[0m \u001b[0mphonetic1\u001b[0m\u001b[0;34m]\u001b[0m\u001b[0;34m\u001b[0m\u001b[0m\n\u001b[1;32m     13\u001b[0m     \u001b[0mph2_len\u001b[0m \u001b[0;34m=\u001b[0m \u001b[0;34m[\u001b[0m\u001b[0mlen\u001b[0m\u001b[0;34m(\u001b[0m\u001b[0mcons\u001b[0m\u001b[0;34m)\u001b[0m \u001b[0;32mfor\u001b[0m \u001b[0mcons\u001b[0m \u001b[0;32min\u001b[0m \u001b[0mphonetic2\u001b[0m\u001b[0;34m]\u001b[0m\u001b[0;34m\u001b[0m\u001b[0m\n\u001b[0;32m---> 14\u001b[0;31m     \u001b[0mind1\u001b[0m \u001b[0;34m=\u001b[0m \u001b[0mphonetic1\u001b[0m\u001b[0;34m.\u001b[0m\u001b[0mindex\u001b[0m\u001b[0;34m(\u001b[0m\u001b[0msound\u001b[0m\u001b[0;34m)\u001b[0m\u001b[0;34m\u001b[0m\u001b[0m\n\u001b[0m\u001b[1;32m     15\u001b[0m     \u001b[0mind2\u001b[0m \u001b[0;34m=\u001b[0m \u001b[0mphonetic2\u001b[0m\u001b[0;34m.\u001b[0m\u001b[0mindex\u001b[0m\u001b[0;34m(\u001b[0m\u001b[0msound\u001b[0m\u001b[0;34m)\u001b[0m\u001b[0;34m\u001b[0m\u001b[0m\n\u001b[1;32m     16\u001b[0m     \u001b[0;32mif\u001b[0m \u001b[0;34m(\u001b[0m\u001b[0mind1\u001b[0m \u001b[0;34m<\u001b[0m \u001b[0mph1_len\u001b[0m\u001b[0;34m.\u001b[0m\u001b[0mindex\u001b[0m\u001b[0;34m(\u001b[0m\u001b[0mmax\u001b[0m\u001b[0;34m(\u001b[0m\u001b[0mph1_len\u001b[0m\u001b[0;34m)\u001b[0m\u001b[0;34m)\u001b[0m\u001b[0;34m)\u001b[0m \u001b[0;32mand\u001b[0m \u001b[0;34m(\u001b[0m\u001b[0mind2\u001b[0m \u001b[0;34m<\u001b[0m \u001b[0mph2_len\u001b[0m\u001b[0;34m.\u001b[0m\u001b[0mindex\u001b[0m\u001b[0;34m(\u001b[0m\u001b[0mmax\u001b[0m\u001b[0;34m(\u001b[0m\u001b[0mph2_len\u001b[0m\u001b[0;34m)\u001b[0m\u001b[0;34m)\u001b[0m\u001b[0;34m)\u001b[0m\u001b[0;34m:\u001b[0m\u001b[0;34m\u001b[0m\u001b[0m\n",
      "\u001b[0;31mValueError\u001b[0m: [u'N'] is not in list"
     ]
    }
   ],
   "source": [
    "print a\n",
    "print b\n",
    "print c\n",
    "# print prefix_check(a,b,c)\n",
    "print prefix_check(b,a,c)"
   ]
  },
  {
   "cell_type": "code",
   "execution_count": null,
   "metadata": {
    "collapsed": true
   },
   "outputs": [],
   "source": []
  },
  {
   "cell_type": "code",
   "execution_count": null,
   "metadata": {
    "collapsed": true
   },
   "outputs": [],
   "source": []
  },
  {
   "cell_type": "code",
   "execution_count": null,
   "metadata": {
    "collapsed": true
   },
   "outputs": [],
   "source": []
  },
  {
   "cell_type": "code",
   "execution_count": null,
   "metadata": {
    "collapsed": true
   },
   "outputs": [],
   "source": []
  },
  {
   "cell_type": "code",
   "execution_count": null,
   "metadata": {
    "collapsed": true
   },
   "outputs": [],
   "source": []
  },
  {
   "cell_type": "code",
   "execution_count": 262,
   "metadata": {
    "collapsed": true
   },
   "outputs": [],
   "source": [
    "# Web Scrapping\n",
    "import requests\n",
    "from bs4 import BeautifulSoup"
   ]
  },
  {
   "cell_type": "code",
   "execution_count": 263,
   "metadata": {
    "collapsed": true
   },
   "outputs": [],
   "source": [
    "\n",
    "r = requests.get('http://genius.com/artists/Lin-manuel-miranda')\n",
    "soup = BeautifulSoup(r.text, 'html.parser')\n"
   ]
  },
  {
   "cell_type": "code",
   "execution_count": 269,
   "metadata": {
    "collapsed": false
   },
   "outputs": [
    {
     "ename": "SyntaxError",
     "evalue": "keyword can't be an expression (<ipython-input-269-05957ac90bf4>, line 2)",
     "output_type": "error",
     "traceback": [
      "\u001b[0;36m  File \u001b[0;32m\"<ipython-input-269-05957ac90bf4>\"\u001b[0;36m, line \u001b[0;32m2\u001b[0m\n\u001b[0;31m    a = soup.find_all('class' = 'mini_card')\u001b[0m\n\u001b[0;31mSyntaxError\u001b[0m\u001b[0;31m:\u001b[0m keyword can't be an expression\n"
     ]
    }
   ],
   "source": [
    "# links = []\n",
    "a = soup.find_all('class' = 'mini_card')\n",
    "a"
   ]
  },
  {
   "cell_type": "code",
   "execution_count": null,
   "metadata": {
    "collapsed": true
   },
   "outputs": [],
   "source": []
  },
  {
   "cell_type": "code",
   "execution_count": null,
   "metadata": {
    "collapsed": true
   },
   "outputs": [],
   "source": []
  },
  {
   "cell_type": "code",
   "execution_count": null,
   "metadata": {
    "collapsed": true
   },
   "outputs": [],
   "source": []
  },
  {
   "cell_type": "code",
   "execution_count": null,
   "metadata": {
    "collapsed": true
   },
   "outputs": [],
   "source": []
  },
  {
   "cell_type": "code",
   "execution_count": null,
   "metadata": {
    "collapsed": true
   },
   "outputs": [],
   "source": []
  },
  {
   "cell_type": "code",
   "execution_count": null,
   "metadata": {
    "collapsed": true
   },
   "outputs": [],
   "source": []
  },
  {
   "cell_type": "code",
   "execution_count": null,
   "metadata": {
    "collapsed": true
   },
   "outputs": [],
   "source": []
  },
  {
   "cell_type": "code",
   "execution_count": null,
   "metadata": {
    "collapsed": true
   },
   "outputs": [],
   "source": []
  },
  {
   "cell_type": "markdown",
   "metadata": {},
   "source": [
    "## Reconstructing words"
   ]
  },
  {
   "cell_type": "code",
   "execution_count": 270,
   "metadata": {
    "collapsed": true
   },
   "outputs": [],
   "source": [
    "import pronouncing as pr"
   ]
  },
  {
   "cell_type": "code",
   "execution_count": 271,
   "metadata": {
    "collapsed": false
   },
   "outputs": [
    {
     "data": {
      "text/plain": [
       "'forgotten spot in the caribbean'"
      ]
     },
     "execution_count": 271,
     "metadata": {},
     "output_type": "execute_result"
    }
   ],
   "source": [
    "text = 'forgotten spot in the caribbean'\n",
    "text"
   ]
  },
  {
   "cell_type": "code",
   "execution_count": 275,
   "metadata": {
    "collapsed": false
   },
   "outputs": [],
   "source": [
    "phones = []\n",
    "for word in text.split():\n",
    "    phones.append(pr.phones_for_word(word))"
   ]
  },
  {
   "cell_type": "code",
   "execution_count": 277,
   "metadata": {
    "collapsed": false
   },
   "outputs": [
    {
     "data": {
      "text/plain": [
       "[u'F ER0 G AA1 T AH0 N', u'F AO0 R G AA1 T AH0 N']"
      ]
     },
     "execution_count": 277,
     "metadata": {},
     "output_type": "execute_result"
    }
   ],
   "source": [
    "phones[0]"
   ]
  },
  {
   "cell_type": "code",
   "execution_count": null,
   "metadata": {
    "collapsed": true
   },
   "outputs": [],
   "source": []
  },
  {
   "cell_type": "code",
   "execution_count": null,
   "metadata": {
    "collapsed": true
   },
   "outputs": [],
   "source": []
  },
  {
   "cell_type": "code",
   "execution_count": null,
   "metadata": {
    "collapsed": true
   },
   "outputs": [],
   "source": []
  },
  {
   "cell_type": "code",
   "execution_count": null,
   "metadata": {
    "collapsed": true
   },
   "outputs": [],
   "source": []
  },
  {
   "cell_type": "code",
   "execution_count": null,
   "metadata": {
    "collapsed": true
   },
   "outputs": [],
   "source": []
  },
  {
   "cell_type": "code",
   "execution_count": 33,
   "metadata": {
    "collapsed": false
   },
   "outputs": [
    {
     "name": "stdout",
     "output_type": "stream",
     "text": [
      "forgotten [u'T', u'AH0', u'N']\n",
      "spot [u'S', u'P', u'AA1', u'T']\n",
      "in [u'IH0', u'N']\n",
      "the [u'DH', u'AH0']\n",
      "caribbean [u'AH0', u'N']\n"
     ]
    }
   ],
   "source": [
    "for key, val in check.iteritems():\n",
    "    print key, val"
   ]
  },
  {
   "cell_type": "code",
   "execution_count": 32,
   "metadata": {
    "collapsed": false
   },
   "outputs": [
    {
     "name": "stdout",
     "output_type": "stream",
     "text": [
      "0 T\n",
      "1 AH0\n",
      "2 N\n",
      "0 S\n",
      "1 P\n",
      "2 AA1\n",
      "3 T\n",
      "0 IH0\n",
      "1 N\n",
      "0 DH\n",
      "1 AH0\n",
      "0 AH0\n",
      "1 N\n"
     ]
    }
   ],
   "source": [
    "for key, val in check.iteritems():\n",
    "    for ind, sound in enumerate(val):\n",
    "        print ind, sound"
   ]
  },
  {
   "cell_type": "code",
   "execution_count": 19,
   "metadata": {
    "collapsed": false
   },
   "outputs": [
    {
     "data": {
      "text/plain": [
       "[[u'F', u'ER0'], [u'G', u'AA1'], [u'T', u'AH0', u'N']]"
      ]
     },
     "execution_count": 19,
     "metadata": {},
     "output_type": "execute_result"
    }
   ],
   "source": [
    "a = check.values()[0]\n",
    "a"
   ]
  },
  {
   "cell_type": "code",
   "execution_count": 16,
   "metadata": {
    "collapsed": false
   },
   "outputs": [
    {
     "name": "stdout",
     "output_type": "stream",
     "text": [
      "N\n"
     ]
    }
   ],
   "source": [
    "for ind, val in enumerate(a):\n",
    "    while ind < a.indext"
   ]
  },
  {
   "cell_type": "code",
   "execution_count": 22,
   "metadata": {
    "collapsed": false
   },
   "outputs": [
    {
     "name": "stdout",
     "output_type": "stream",
     "text": [
      "0 G\n",
      "1 T\n",
      "2 G\n",
      "0 R\n",
      "1 B\n",
      "2 AH0\n",
      "3 R\n"
     ]
    }
   ],
   "source": [
    "test = OrderedDict()\n",
    "for key, val in check.iteritems():\n",
    "    for ind, sound in enumerate(val):\n",
    "        if ind < val.index(val[-1]):\n",
    "            print ind, val[ind+1][0]"
   ]
  },
  {
   "cell_type": "code",
   "execution_count": 25,
   "metadata": {
    "collapsed": false
   },
   "outputs": [
    {
     "name": "stdout",
     "output_type": "stream",
     "text": [
      "[u'F', u'ER0', u'G']\n",
      "[u'F', u'ER0', u'G']\n",
      "[u'G', u'AA1', u'T']\n",
      "[u'G', u'AA1', u'T']\n",
      "[u'T', u'AH0', u'N', u'G']\n",
      "[u'T', u'AH0', u'N', u'G']\n",
      "G\n",
      "G\n",
      "T\n",
      "T\n",
      "G\n",
      "G\n",
      "G\n",
      "G\n",
      "T\n",
      "T\n",
      "G\n",
      "G\n",
      "G\n",
      "G\n",
      "T\n",
      "T\n"
     ]
    },
    {
     "ename": "IndexError",
     "evalue": "list index out of range",
     "output_type": "error",
     "traceback": [
      "\u001b[0;31m---------------------------------------------------------------------------\u001b[0m",
      "\u001b[0;31mIndexError\u001b[0m                                Traceback (most recent call last)",
      "\u001b[0;32m<ipython-input-25-662466c2fc90>\u001b[0m in \u001b[0;36m<module>\u001b[0;34m()\u001b[0m\n\u001b[1;32m      2\u001b[0m \u001b[0;32mfor\u001b[0m \u001b[0mkey\u001b[0m\u001b[0;34m,\u001b[0m \u001b[0mval\u001b[0m \u001b[0;32min\u001b[0m \u001b[0mcheck\u001b[0m\u001b[0;34m.\u001b[0m\u001b[0miteritems\u001b[0m\u001b[0;34m(\u001b[0m\u001b[0;34m)\u001b[0m\u001b[0;34m:\u001b[0m\u001b[0;34m\u001b[0m\u001b[0m\n\u001b[1;32m      3\u001b[0m     \u001b[0;32mfor\u001b[0m \u001b[0mind\u001b[0m\u001b[0;34m,\u001b[0m \u001b[0msound\u001b[0m \u001b[0;32min\u001b[0m \u001b[0menumerate\u001b[0m\u001b[0;34m(\u001b[0m\u001b[0mval\u001b[0m\u001b[0;34m)\u001b[0m\u001b[0;34m:\u001b[0m\u001b[0;34m\u001b[0m\u001b[0m\n\u001b[0;32m----> 4\u001b[0;31m         \u001b[0;32mif\u001b[0m \u001b[0;34m(\u001b[0m\u001b[0mind\u001b[0m \u001b[0;34m<\u001b[0m \u001b[0mlen\u001b[0m\u001b[0;34m(\u001b[0m\u001b[0mval\u001b[0m\u001b[0;34m)\u001b[0m\u001b[0;34m)\u001b[0m \u001b[0;32mand\u001b[0m \u001b[0;34m(\u001b[0m\u001b[0mlen\u001b[0m\u001b[0;34m(\u001b[0m\u001b[0mval\u001b[0m\u001b[0;34m[\u001b[0m\u001b[0mind\u001b[0m\u001b[0;34m+\u001b[0m\u001b[0;36m1\u001b[0m\u001b[0;34m]\u001b[0m\u001b[0;34m[\u001b[0m\u001b[0;36m0\u001b[0m\u001b[0;34m]\u001b[0m\u001b[0;34m)\u001b[0m \u001b[0;34m==\u001b[0m \u001b[0;36m1\u001b[0m\u001b[0;34m)\u001b[0m\u001b[0;34m:\u001b[0m\u001b[0;34m\u001b[0m\u001b[0m\n\u001b[0m\u001b[1;32m      5\u001b[0m             \u001b[0;32mprint\u001b[0m \u001b[0msound\u001b[0m\u001b[0;34m\u001b[0m\u001b[0m\n\u001b[1;32m      6\u001b[0m \u001b[0;31m#             sound.extend(val[ind+1][0])\u001b[0m\u001b[0;34m\u001b[0m\u001b[0;34m\u001b[0m\u001b[0m\n",
      "\u001b[0;31mIndexError\u001b[0m: list index out of range"
     ]
    }
   ],
   "source": [
    "test = OrderedDict()\n",
    "for key, val in check.iteritems():\n",
    "    for ind, sound in enumerate(val):\n",
    "        if (ind < len(val)) and (len(val[ind+1][0]) == 1):\n",
    "            print sound\n",
    "#             sound.extend(val[ind+1][0])\n",
    "            print sound\n",
    "#     test.update({key:val})    \n",
    "    \n",
    "test"
   ]
  },
  {
   "cell_type": "code",
   "execution_count": null,
   "metadata": {
    "collapsed": true
   },
   "outputs": [],
   "source": [
    "\n"
   ]
  },
  {
   "cell_type": "code",
   "execution_count": null,
   "metadata": {
    "collapsed": true
   },
   "outputs": [],
   "source": []
  },
  {
   "cell_type": "code",
   "execution_count": 286,
   "metadata": {
    "collapsed": false
   },
   "outputs": [
    {
     "ename": "KeyboardInterrupt",
     "evalue": "",
     "output_type": "error",
     "traceback": [
      "\u001b[0;31m---------------------------------------------------------------------------\u001b[0m",
      "\u001b[0;31mKeyboardInterrupt\u001b[0m                         Traceback (most recent call last)",
      "\u001b[0;32m<ipython-input-286-7339dff33a5c>\u001b[0m in \u001b[0;36m<module>\u001b[0;34m()\u001b[0m\n\u001b[1;32m     16\u001b[0m     \u001b[0;32mreturn\u001b[0m \u001b[0mtemp_dict\u001b[0m\u001b[0;34m\u001b[0m\u001b[0m\n\u001b[1;32m     17\u001b[0m \u001b[0;34m\u001b[0m\u001b[0m\n\u001b[0;32m---> 18\u001b[0;31m \u001b[0mtest\u001b[0m \u001b[0;34m=\u001b[0m \u001b[0mwrapped_vowels\u001b[0m\u001b[0;34m(\u001b[0m\u001b[0mcheck\u001b[0m\u001b[0;34m)\u001b[0m\u001b[0;34m\u001b[0m\u001b[0m\n\u001b[0m",
      "\u001b[0;32m<ipython-input-286-7339dff33a5c>\u001b[0m in \u001b[0;36mwrapped_vowels\u001b[0;34m(check)\u001b[0m\n\u001b[1;32m     10\u001b[0m             \u001b[0;32mwhile\u001b[0m \u001b[0mind\u001b[0m \u001b[0;34m<\u001b[0m \u001b[0mval\u001b[0m\u001b[0;34m.\u001b[0m\u001b[0mindex\u001b[0m\u001b[0;34m(\u001b[0m\u001b[0mval\u001b[0m\u001b[0;34m[\u001b[0m\u001b[0;34m-\u001b[0m\u001b[0;36m1\u001b[0m\u001b[0;34m]\u001b[0m\u001b[0;34m)\u001b[0m\u001b[0;34m:\u001b[0m\u001b[0;34m\u001b[0m\u001b[0m\n\u001b[1;32m     11\u001b[0m                 \u001b[0;32mif\u001b[0m \u001b[0mlen\u001b[0m\u001b[0;34m(\u001b[0m\u001b[0mval\u001b[0m\u001b[0;34m[\u001b[0m\u001b[0mind\u001b[0m\u001b[0;34m+\u001b[0m\u001b[0;36m1\u001b[0m\u001b[0;34m]\u001b[0m\u001b[0;34m[\u001b[0m\u001b[0;36m0\u001b[0m\u001b[0;34m]\u001b[0m\u001b[0;34m)\u001b[0m \u001b[0;34m==\u001b[0m \u001b[0;36m1\u001b[0m\u001b[0;34m:\u001b[0m\u001b[0;34m\u001b[0m\u001b[0m\n\u001b[0;32m---> 12\u001b[0;31m                     \u001b[0mval\u001b[0m\u001b[0;34m.\u001b[0m\u001b[0mextend\u001b[0m\u001b[0;34m(\u001b[0m\u001b[0mval\u001b[0m\u001b[0;34m[\u001b[0m\u001b[0mind\u001b[0m\u001b[0;34m+\u001b[0m\u001b[0;36m1\u001b[0m\u001b[0;34m]\u001b[0m\u001b[0;34m[\u001b[0m\u001b[0;36m0\u001b[0m\u001b[0;34m]\u001b[0m\u001b[0;34m)\u001b[0m\u001b[0;34m\u001b[0m\u001b[0m\n\u001b[0m\u001b[1;32m     13\u001b[0m                 \u001b[0;32melse\u001b[0m\u001b[0;34m:\u001b[0m\u001b[0;34m\u001b[0m\u001b[0m\n\u001b[1;32m     14\u001b[0m                     \u001b[0;32mcontinue\u001b[0m\u001b[0;34m\u001b[0m\u001b[0m\n",
      "\u001b[0;31mKeyboardInterrupt\u001b[0m: "
     ]
    }
   ],
   "source": [
    "def wrapped_vowels(check):\n",
    "    '''\n",
    "    Ensures that that a vowel is wrapped by consonants\n",
    "    '''\n",
    "#     temp_syl = clean_syllables()\n",
    "    temp_dict = OrderedDict()\n",
    "    for key, val in check.iteritems():\n",
    "        for ind, sound in enumerate(val):\n",
    "            temp_list = []\n",
    "            while ind < val.index(val[-1]):\n",
    "                if len(val[ind+1][0]) == 1:\n",
    "                    val.extend(val[ind+1][0])\n",
    "                else:\n",
    "                    continue\n",
    "        temp_dict.update({key:val})\n",
    "    return temp_dict\n",
    "\n",
    "test = wrapped_vowels(check)"
   ]
  },
  {
   "cell_type": "code",
   "execution_count": 284,
   "metadata": {
    "collapsed": false
   },
   "outputs": [
    {
     "ename": "AttributeError",
     "evalue": "'list' object has no attribute 'iteritems'",
     "output_type": "error",
     "traceback": [
      "\u001b[0;31m---------------------------------------------------------------------------\u001b[0m",
      "\u001b[0;31mAttributeError\u001b[0m                            Traceback (most recent call last)",
      "\u001b[0;32m<ipython-input-284-646a8d794972>\u001b[0m in \u001b[0;36m<module>\u001b[0;34m()\u001b[0m\n\u001b[0;32m----> 1\u001b[0;31m \u001b[0;32mfor\u001b[0m \u001b[0mkey\u001b[0m\u001b[0;34m,\u001b[0m \u001b[0mval\u001b[0m \u001b[0;32min\u001b[0m \u001b[0mtest\u001b[0m\u001b[0;34m.\u001b[0m\u001b[0miteritems\u001b[0m\u001b[0;34m(\u001b[0m\u001b[0;34m)\u001b[0m\u001b[0;34m:\u001b[0m\u001b[0;34m\u001b[0m\u001b[0m\n\u001b[0m\u001b[1;32m      2\u001b[0m     \u001b[0;32mprint\u001b[0m \u001b[0mkey\u001b[0m\u001b[0;34m,\u001b[0m \u001b[0mval\u001b[0m\u001b[0;34m\u001b[0m\u001b[0m\n",
      "\u001b[0;31mAttributeError\u001b[0m: 'list' object has no attribute 'iteritems'"
     ]
    }
   ],
   "source": [
    "for key, val in test.iteritems():\n",
    "    print key, val"
   ]
  },
  {
   "cell_type": "code",
   "execution_count": null,
   "metadata": {
    "collapsed": false,
    "scrolled": true
   },
   "outputs": [],
   "source": []
  },
  {
   "cell_type": "code",
   "execution_count": null,
   "metadata": {
    "collapsed": true
   },
   "outputs": [],
   "source": []
  },
  {
   "cell_type": "code",
   "execution_count": 75,
   "metadata": {
    "collapsed": false
   },
   "outputs": [
    {
     "name": "stdout",
     "output_type": "stream",
     "text": [
      "forgotten [[u'F', u'ER0'], [u'G', u'AA1'], [u'T', u'AH0', u'N']]\n",
      "spot [[u'S', u'P', u'AA1', u'T']]\n",
      "in [[u'IH0', u'N']]\n",
      "the [[u'DH', u'AH0']]\n",
      "caribbean [[u'K', u'EH0'], [u'R', u'IH1'], [u'B', u'IY2'], [u'AH0', u'N']]\n"
     ]
    }
   ],
   "source": [
    "from ScoreMechanism import ScoreMechanism\n",
    "\n",
    "score = ScoreMechanism('lyrics/forgot.md')\n",
    "for key, val in score.syllable_dict.iteritems():\n",
    "    print key, val"
   ]
  },
  {
   "cell_type": "code",
   "execution_count": 165,
   "metadata": {
    "collapsed": false
   },
   "outputs": [
    {
     "data": {
      "text/plain": [
       "OrderedDict([('forgotten',\n",
       "              [[u'F', u'ER0'], [u'G', u'AA1'], [u'T', u'AH0', u'N']]),\n",
       "             ('spot', [[u'S', u'P', u'AA1', u'T']]),\n",
       "             ('in', [[u'IH0', u'N']]),\n",
       "             ('the', [[u'DH', u'AH0']]),\n",
       "             ('caribbean',\n",
       "              [[u'K', u'EH0'],\n",
       "               [u'R', u'IH1'],\n",
       "               [u'B', u'IY2'],\n",
       "               [u'AH0', u'N']])])"
      ]
     },
     "execution_count": 165,
     "metadata": {},
     "output_type": "execute_result"
    }
   ],
   "source": [
    "check = copy.deepcopy(score.syllable_dict)\n",
    "check"
   ]
  },
  {
   "cell_type": "code",
   "execution_count": 127,
   "metadata": {
    "collapsed": false
   },
   "outputs": [
    {
     "name": "stdout",
     "output_type": "stream",
     "text": [
      "first condition ind: 0, 2\n",
      "first condition ind: 1, 2\n",
      "second condition ind: 2, 2\n",
      "second condition ind: 0, 0\n",
      "second condition ind: 0, 0\n",
      "second condition ind: 0, 0\n",
      "first condition ind: 0, 3\n",
      "first condition ind: 1, 3\n",
      "first condition ind: 2, 3\n",
      "second condition ind: 3, 3\n"
     ]
    }
   ],
   "source": [
    "for key, val in check.iteritems():\n",
    "    for ind, sound in enumerate(val):\n",
    "#         print val.index(sound), ind\n",
    "        temp = copy.deepcopy(sound)\n",
    "        if ind < (len(val) - 1):\n",
    "            print 'first condition ind: {}, {}'.format(val.index(sound), (len(val)-1))\n",
    "        else:\n",
    "            print 'second condition ind: {}, {}'.format(val.index(sound), (len(val) -1))"
   ]
  },
  {
   "cell_type": "code",
   "execution_count": 113,
   "metadata": {
    "collapsed": false
   },
   "outputs": [
    {
     "name": "stdout",
     "output_type": "stream",
     "text": [
      "0 [[u'F', u'ER0'], [u'G', u'AA1'], [u'T', u'AH0', u'N']]\n",
      "1 [[u'S', u'P', u'AA1', u'T']]\n",
      "2 [[u'IH0', u'N']]\n",
      "3 [[u'DH', u'AH0']]\n",
      "4 [[u'K', u'EH0'], [u'R', u'IH1'], [u'B', u'IY2'], [u'AH0', u'N']]\n"
     ]
    }
   ],
   "source": [
    "for ind, ph in enumerate(check.itervalues()):\n",
    "    print ind, ph"
   ]
  },
  {
   "cell_type": "code",
   "execution_count": 152,
   "metadata": {
    "collapsed": false
   },
   "outputs": [
    {
     "name": "stdout",
     "output_type": "stream",
     "text": [
      "first: [u'F', u'ER0', u'G'], 0\n",
      "first: [u'G', u'AA1', u'T'], 1\n",
      "second: [u'T', u'AH0', u'N'] 2\n",
      "second: [u'S', u'P', u'AA1', u'T'] 0\n",
      "second: [u'IH0', u'N'] 0\n",
      "second: [u'DH', u'AH0'] 0\n",
      "first: [u'K', u'EH0', u'R'], 0\n",
      "first: [u'R', u'IH1', u'B'], 1\n",
      "first: [u'B', u'IY2', u'A', u'H', u'0'], 2\n",
      "second: [u'AH0', u'N'] 3\n"
     ]
    }
   ],
   "source": [
    "for key, val in check.iteritems():\n",
    "    for ind, sound in enumerate(val):\n",
    "        temp = copy.deepcopy(sound)\n",
    "        if ind < (len(val) - 1):\n",
    "            temp.extend(val[ind+1][0])\n",
    "            print 'first: {}, {}'.format(temp, ind)\n",
    "        else:\n",
    "            print 'second: {} {}'.format(temp, ind)\n",
    "    d.update({key:temp})\n",
    "    \n",
    "# print d"
   ]
  },
  {
   "cell_type": "code",
   "execution_count": 156,
   "metadata": {
    "collapsed": false
   },
   "outputs": [
    {
     "data": {
      "text/plain": [
       "[[u'F', u'ER0'], [u'G', u'AA1'], [u'T', u'AH0', u'N']]"
      ]
     },
     "execution_count": 156,
     "metadata": {},
     "output_type": "execute_result"
    }
   ],
   "source": [
    "check['forgotten']"
   ]
  },
  {
   "cell_type": "code",
   "execution_count": 164,
   "metadata": {
    "collapsed": false
   },
   "outputs": [
    {
     "data": {
      "text/plain": [
       "OrderedDict([('forgotten',\n",
       "              [[u'F', u'ER0', u'F', u'G', u'G'],\n",
       "               [u'G', u'AA1', u'G', u'T', u'T'],\n",
       "               [u'T', u'AH0', u'N', u'T']]),\n",
       "             ('spot', [[u'S', u'P', u'AA1', u'T', u'S']]),\n",
       "             ('in', [[u'IH0', u'N', u'IH0']]),\n",
       "             ('the', [[u'DH', u'AH0', u'DH']]),\n",
       "             ('caribbean',\n",
       "              [[u'K', u'EH0', u'K', u'R', u'R'],\n",
       "               [u'R', u'IH1', u'R', u'B', u'B'],\n",
       "               [u'B', u'IY2', u'B', u'AH0', u'AH0'],\n",
       "               [u'AH0', u'N', u'AH0']])])"
      ]
     },
     "execution_count": 164,
     "metadata": {},
     "output_type": "execute_result"
    }
   ],
   "source": [
    "check"
   ]
  },
  {
   "cell_type": "markdown",
   "metadata": {},
   "source": [
    "## NEXT LINE WORKS FOR WRAPPING VOWELS"
   ]
  },
  {
   "cell_type": "code",
   "execution_count": 169,
   "metadata": {
    "collapsed": false
   },
   "outputs": [],
   "source": [
    "# Finally working\n",
    "\n",
    "d2 = copy.deepcopy(check)\n",
    "for key, val in check.iteritems():\n",
    "    for i, syl in enumerate(val[1:], 1):\n",
    "        d2[key][i-1].append(syl[0])"
   ]
  },
  {
   "cell_type": "code",
   "execution_count": 170,
   "metadata": {
    "collapsed": false
   },
   "outputs": [
    {
     "data": {
      "text/plain": [
       "OrderedDict([('forgotten',\n",
       "              [[u'F', u'ER0', u'G'],\n",
       "               [u'G', u'AA1', u'T'],\n",
       "               [u'T', u'AH0', u'N']]),\n",
       "             ('spot', [[u'S', u'P', u'AA1', u'T']]),\n",
       "             ('in', [[u'IH0', u'N']]),\n",
       "             ('the', [[u'DH', u'AH0']]),\n",
       "             ('caribbean',\n",
       "              [[u'K', u'EH0', u'R'],\n",
       "               [u'R', u'IH1', u'B'],\n",
       "               [u'B', u'IY2', u'AH0'],\n",
       "               [u'AH0', u'N']])])"
      ]
     },
     "execution_count": 170,
     "metadata": {},
     "output_type": "execute_result"
    }
   ],
   "source": [
    "d2"
   ]
  },
  {
   "cell_type": "code",
   "execution_count": 151,
   "metadata": {
    "collapsed": false
   },
   "outputs": [
    {
     "data": {
      "text/plain": [
       "defaultdict(list,\n",
       "            {'caribbean': [[u'K', u'EH0'],\n",
       "              [u'R', u'IH1'],\n",
       "              [u'B', u'IY2'],\n",
       "              [u'AH0', u'N']],\n",
       "             'forgotten': [[u'F', u'ER0'],\n",
       "              [u'G', u'AA1'],\n",
       "              [u'T', u'AH0', u'N']],\n",
       "             'in': [[u'IH0', u'N']],\n",
       "             'spot': [[u'S', u'P', u'AA1', u'T']],\n",
       "             'the': [[u'DH', u'AH0']]})"
      ]
     },
     "execution_count": 151,
     "metadata": {},
     "output_type": "execute_result"
    }
   ],
   "source": [
    "from collections import defaultdict\n",
    "\n",
    "d = defaultdict(list)\n",
    "for key, val in check.iteritems():\n",
    "    for ind, sound in enumerate(val):\n",
    "#         n = len(val[ind+1][0]\n",
    "        if ind <= (len(val) - 1):\n",
    "            d[key].append(sound)                  \n",
    "d"
   ]
  },
  {
   "cell_type": "code",
   "execution_count": 114,
   "metadata": {
    "collapsed": false
   },
   "outputs": [
    {
     "data": {
      "text/plain": [
       "OrderedDict([('forgotten', [u'T', u'AH0', u'N']),\n",
       "             ('spot', [u'S', u'P', u'AA1', u'T']),\n",
       "             ('in', [u'IH0', u'N']),\n",
       "             ('the', [u'DH', u'AH0']),\n",
       "             ('caribbean', [u'AH0', u'N'])])"
      ]
     },
     "execution_count": 114,
     "metadata": {},
     "output_type": "execute_result"
    }
   ],
   "source": [
    "from collections import OrderedDict\n",
    "\n",
    "d = OrderedDict()\n",
    "for key, val in check.iteritems():\n",
    "    for ind, sound in enumerate(val):\n",
    "        temp = copy.deepcopy(sound)\n",
    "        if ind < (len(val) - 1) and (val[ind+1][0] == 1):\n",
    "            temp.extend(val[ind+1][0])\n",
    "            d.update({key:temp})\n",
    "        else:\n",
    "             d.update({key:sound})     \n",
    "                \n",
    "d"
   ]
  },
  {
   "cell_type": "code",
   "execution_count": null,
   "metadata": {
    "collapsed": true
   },
   "outputs": [],
   "source": []
  },
  {
   "cell_type": "code",
   "execution_count": null,
   "metadata": {
    "collapsed": true
   },
   "outputs": [],
   "source": []
  },
  {
   "cell_type": "code",
   "execution_count": null,
   "metadata": {
    "collapsed": true
   },
   "outputs": [],
   "source": []
  },
  {
   "cell_type": "code",
   "execution_count": null,
   "metadata": {
    "collapsed": true
   },
   "outputs": [],
   "source": []
  },
  {
   "cell_type": "code",
   "execution_count": null,
   "metadata": {
    "collapsed": true
   },
   "outputs": [],
   "source": []
  },
  {
   "cell_type": "code",
   "execution_count": 38,
   "metadata": {
    "collapsed": false
   },
   "outputs": [],
   "source": []
  },
  {
   "cell_type": "code",
   "execution_count": null,
   "metadata": {
    "collapsed": false
   },
   "outputs": [],
   "source": []
  },
  {
   "cell_type": "code",
   "execution_count": 52,
   "metadata": {
    "collapsed": false
   },
   "outputs": [
    {
     "name": "stdout",
     "output_type": "stream",
     "text": [
      "less than condition: [u'F', u'ER0']\n",
      "equal condition: [u'G', u'AA1']\n",
      "equal condition: [u'T', u'AH0', u'N']\n",
      "less than condition: [u'S', u'P', u'AA1', u'T']\n",
      "less than condition: [u'IH0', u'N']\n",
      "less than condition: [u'DH', u'AH0']\n",
      "less than condition: [u'K', u'EH0']\n",
      "equal condition: [u'R', u'IH1']\n",
      "equal condition: [u'B', u'IY2']\n",
      "equal condition: [u'AH0', u'N']\n"
     ]
    }
   ],
   "source": []
  },
  {
   "cell_type": "code",
   "execution_count": 49,
   "metadata": {
    "collapsed": false
   },
   "outputs": [
    {
     "data": {
      "text/plain": [
       "3"
      ]
     },
     "execution_count": 49,
     "metadata": {},
     "output_type": "execute_result"
    },
    {
     "name": "stdout",
     "output_type": "stream",
     "text": [
      "\n"
     ]
    }
   ],
   "source": [
    "len(check.values()[0])"
   ]
  },
  {
   "cell_type": "code",
   "execution_count": 59,
   "metadata": {
    "collapsed": false
   },
   "outputs": [
    {
     "name": "stdout",
     "output_type": "stream",
     "text": [
      "0 [[u'F', u'ER0'], [u'G', u'AA1'], [u'T', u'AH0', u'N']]\n",
      "1 [[u'S', u'P', u'AA1', u'T']]\n",
      "2 [[u'IH0', u'N']]\n",
      "3 [[u'DH', u'AH0']]\n",
      "4 [[u'K', u'EH0'], [u'R', u'IH1'], [u'B', u'IY2'], [u'AH0', u'N']]\n"
     ]
    }
   ],
   "source": []
  },
  {
   "cell_type": "code",
   "execution_count": 71,
   "metadata": {
    "collapsed": false
   },
   "outputs": [
    {
     "name": "stdout",
     "output_type": "stream",
     "text": [
      "0 [u'F', u'ER0', u'T', u'T']\n",
      "1 [u'G', u'AA1', u'T', u'T']\n",
      "2 [u'T', u'AH0', u'N']\n",
      "0 [u'S', u'P', u'AA1', u'T']\n",
      "0 [u'IH0', u'N']\n",
      "0 [u'DH', u'AH0']\n",
      "0 [u'K', u'EH0']\n",
      "1 [u'R', u'IH1']\n",
      "2 [u'B', u'IY2']\n",
      "3 [u'AH0', u'N']\n"
     ]
    }
   ],
   "source": [
    "for ind, ph in enumerate(check.itervalues()):\n",
    "    for ind2, sounds in enumerate(ph):\n",
    "        print ind2, sounds"
   ]
  },
  {
   "cell_type": "code",
   "execution_count": 70,
   "metadata": {
    "collapsed": false
   },
   "outputs": [
    {
     "name": "stdout",
     "output_type": "stream",
     "text": [
      "0 [u'F', u'ER0', u'T', u'T'] first G\n",
      "1 [u'G', u'AA1', u'T', u'T'] first T\n",
      "2 [u'T', u'AH0', u'N'] second\n",
      "0 [u'S', u'P', u'AA1', u'T'] second\n",
      "0 [u'IH0', u'N'] second\n",
      "0 [u'DH', u'AH0'] second\n",
      "0 [u'K', u'EH0'] first R\n",
      "1 [u'R', u'IH1'] first B\n",
      "2 [u'B', u'IY2'] first AH0\n",
      "3 [u'AH0', u'N'] second\n"
     ]
    }
   ],
   "source": [
    "import copy\n",
    "\n",
    "for ind, ph in enumerate(check.itervalues()):\n",
    "    for ind2, sounds in enumerate(ph):\n",
    "        temp = copy.deepcopy(sound)\n",
    "        if (ind2 < len(ph) - 1):\n",
    "#             temp.extend(ph[ind+2][0])\n",
    "#             print temp, 'first'\n",
    "            print ind2, sounds, 'first', ph[ind2+1][0]\n",
    "        else:\n",
    "            print ind2, sounds, 'second'"
   ]
  },
  {
   "cell_type": "code",
   "execution_count": null,
   "metadata": {
    "collapsed": true
   },
   "outputs": [],
   "source": []
  },
  {
   "cell_type": "code",
   "execution_count": null,
   "metadata": {
    "collapsed": true
   },
   "outputs": [],
   "source": []
  },
  {
   "cell_type": "code",
   "execution_count": 187,
   "metadata": {
    "collapsed": true
   },
   "outputs": [],
   "source": [
    "from ScoreMechanism import ScoreMechanism"
   ]
  },
  {
   "cell_type": "code",
   "execution_count": 188,
   "metadata": {
    "collapsed": true
   },
   "outputs": [],
   "source": [
    "score = ScoreMechanism('lyrics/forgot.md')"
   ]
  },
  {
   "cell_type": "code",
   "execution_count": 189,
   "metadata": {
    "collapsed": false,
    "scrolled": true
   },
   "outputs": [
    {
     "data": {
      "text/plain": [
       "OrderedDict([('forgotten', u'F ER0 G AA1 T AH0 N'),\n",
       "             ('spot', u'S P AA1 T'),\n",
       "             ('in', u'IH0 N'),\n",
       "             ('the', u'DH AH0'),\n",
       "             ('caribbean', u'K EH0 R IH1 B IY2 AH0 N')])"
      ]
     },
     "execution_count": 189,
     "metadata": {},
     "output_type": "execute_result"
    }
   ],
   "source": [
    "score.aphabet_dict"
   ]
  },
  {
   "cell_type": "code",
   "execution_count": null,
   "metadata": {
    "collapsed": false
   },
   "outputs": [],
   "source": []
  },
  {
   "cell_type": "code",
   "execution_count": 194,
   "metadata": {
    "collapsed": false
   },
   "outputs": [],
   "source": [
    "def prRed(prt): print(\"\\033[91m {}\\033[00m\" .format(prt))\n",
    "def prGreen(prt): print(\"\\033[92m {}\\033[00m\" .format(prt))\n",
    "def prYellow(prt): print(\"\\033[93m {}\\033[00m\" .format(prt))\n",
    "def prLightPurple(prt): print(\"\\033[94m {}\\033[00m\" .format(prt))\n",
    "def prPurple(prt): print(\"\\033[95m {}\\033[00m\" .format(prt))\n",
    "def prCyan(prt): print(\"\\033[96m {}\\033[00m\" .format(prt))\n",
    "def prLightGray(prt): print(\"\\033[97m {}\\033[00m\" .format(prt))\n",
    "def prBlack(prt): print(\"\\033[98m {}\\033[00m\" .format(prt))"
   ]
  },
  {
   "cell_type": "code",
   "execution_count": 195,
   "metadata": {
    "collapsed": false
   },
   "outputs": [
    {
     "name": "stdout",
     "output_type": "stream",
     "text": [
      "\u001b[92m Hello world\u001b[00m\n"
     ]
    }
   ],
   "source": [
    "prGreen(\"Hello world\")"
   ]
  },
  {
   "cell_type": "code",
   "execution_count": null,
   "metadata": {
    "collapsed": false
   },
   "outputs": [],
   "source": []
  },
  {
   "cell_type": "code",
   "execution_count": null,
   "metadata": {
    "collapsed": true
   },
   "outputs": [],
   "source": []
  },
  {
   "cell_type": "code",
   "execution_count": 205,
   "metadata": {
    "collapsed": false
   },
   "outputs": [],
   "source": [
    "# from TextAssemble import TextAssemble\n",
    "from IPython.core.display import HTML, display"
   ]
  },
  {
   "cell_type": "code",
   "execution_count": 204,
   "metadata": {
    "collapsed": false
   },
   "outputs": [
    {
     "data": {
      "text/plain": [
       "[(u'got', 99),\n",
       " (u'ten', 9),\n",
       " (u'spot', 99),\n",
       " (u'in', 99),\n",
       " (u'the', 99),\n",
       " ('ca', 99),\n",
       " ('rib', 99),\n",
       " ('be', 99),\n",
       " ('an', 9)]"
      ]
     },
     "execution_count": 204,
     "metadata": {},
     "output_type": "execute_result"
    }
   ],
   "source": []
  },
  {
   "cell_type": "code",
   "execution_count": 208,
   "metadata": {
    "collapsed": false
   },
   "outputs": [
    {
     "data": {
      "text/html": [
       "<h1>Hello, world!</h1>"
      ],
      "text/plain": [
       "<IPython.core.display.HTML object>"
      ]
     },
     "metadata": {},
     "output_type": "display_data"
    }
   ],
   "source": []
  },
  {
   "cell_type": "code",
   "execution_count": 210,
   "metadata": {
    "collapsed": false
   },
   "outputs": [
    {
     "name": "stdout",
     "output_type": "stream",
     "text": [
      "This is not a bold statement.\n",
      "<html><em>But this is a bold statement.</em></html>\n"
     ]
    }
   ],
   "source": [
    "print 'This is not a bold statement.'\n",
    "print '<html><em>But this is a bold statement.</em></html>'"
   ]
  },
  {
   "cell_type": "code",
   "execution_count": 225,
   "metadata": {
    "collapsed": false
   },
   "outputs": [
    {
     "name": "stdout",
     "output_type": "stream",
     "text": [
      "\u001b[30msome \u001b[32mred \u001b[33mtext\n",
      "\u001b[1m\u001b[31msome bright red text\n"
     ]
    }
   ],
   "source": [
    "from colorama import *\n",
    "init(autoreset=True)\n",
    "print Fore.BLACK + 'some' + Fore.GREEN + 'red' + Fore.YELLOW + 'text'\n",
    "print Style.BRIGHT + Fore.RED + 'some bright red text'\n",
    "\n",
    "colores = ['BLACK', 'BLUE', 'CYAN', 'GREEN', 'MAGENTA', 'RED', 'YELLOW']\n",
    "print colores"
   ]
  },
  {
   "cell_type": "code",
   "execution_count": 319,
   "metadata": {
    "collapsed": false
   },
   "outputs": [
    {
     "name": "stdout",
     "output_type": "stream",
     "text": [
      "['BLACK', 'BLUE', 'CYAN', 'GREEN', 'MAGENTA', 'RED', 'YELLOW']\n"
     ]
    }
   ],
   "source": [
    "colores = ['BLACK', 'BLUE', 'CYAN', 'GREEN', 'MAGENTA', 'RED', 'YELLOW']\n",
    "print colores"
   ]
  },
  {
   "cell_type": "code",
   "execution_count": null,
   "metadata": {
    "collapsed": true
   },
   "outputs": [],
   "source": []
  },
  {
   "cell_type": "code",
   "execution_count": null,
   "metadata": {
    "collapsed": true
   },
   "outputs": [],
   "source": []
  },
  {
   "cell_type": "code",
   "execution_count": 266,
   "metadata": {
    "collapsed": false
   },
   "outputs": [
    {
     "data": {
      "text/plain": [
       "[(u'for', 99),\n",
       " (u'got', 99),\n",
       " (u'ten', 9),\n",
       " (u'spot', 99),\n",
       " (u'in', 99),\n",
       " (u'the', 99),\n",
       " ('ca', 99),\n",
       " ('rib', 99),\n",
       " ('be', 99),\n",
       " ('an', 9)]"
      ]
     },
     "execution_count": 266,
     "metadata": {},
     "output_type": "execute_result"
    }
   ],
   "source": [
    "test =      ([(u'for', 99),\n",
    "             (u'got', 99),\n",
    "             (u'ten', 9),\n",
    "             (u'spot', 9),\n",
    "             (u'in', 99),\n",
    "             (u'the', 99),\n",
    "             ('ca', 99),\n",
    "             ('rib', 99),\n",
    "             ('be', 99),\n",
    "             ('an', 9)])\n",
    "\n",
    "test"
   ]
  },
  {
   "cell_type": "code",
   "execution_count": 267,
   "metadata": {
    "collapsed": false
   },
   "outputs": [
    {
     "data": {
      "text/plain": [
       "OrderedDict([('forgotten', [u'for', u'got', u'ten']),\n",
       "             ('spot', [u'spot']),\n",
       "             ('in', [u'in']),\n",
       "             ('the', [u'the']),\n",
       "             ('caribbean', ['ca', 'rib', 'be', 'an'])])"
      ]
     },
     "execution_count": 267,
     "metadata": {},
     "output_type": "execute_result"
    }
   ],
   "source": [
    "syl_dict = OrderedDict([('forgotten', [u'for', u'got', u'ten']),\n",
    "             ('spot', [u'spot']),\n",
    "             ('in', [u'in']),\n",
    "             ('the', [u'the']),\n",
    "             ('caribbean', ['ca', 'rib', 'be', 'an'])])\n",
    "\n",
    "syl_dict"
   ]
  },
  {
   "cell_type": "code",
   "execution_count": 274,
   "metadata": {
    "collapsed": false
   },
   "outputs": [
    {
     "data": {
      "text/plain": [
       "OrderedDict([('forgotten', 3),\n",
       "             ('spot', 1),\n",
       "             ('in', 1),\n",
       "             ('the', 1),\n",
       "             ('caribbean', 4)])"
      ]
     },
     "execution_count": 274,
     "metadata": {},
     "output_type": "execute_result"
    }
   ],
   "source": [
    "check = OrderedDict()\n",
    "for k, v in syl_dict.iteritems():\n",
    "    check.update({k:len(v)})\n",
    "\n",
    "check"
   ]
  },
  {
   "cell_type": "code",
   "execution_count": 295,
   "metadata": {
    "collapsed": false
   },
   "outputs": [
    {
     "ename": "TypeError",
     "evalue": "slice indices must be integers or None or have an __index__ method",
     "output_type": "error",
     "traceback": [
      "\u001b[0;31m---------------------------------------------------------------------------\u001b[0m",
      "\u001b[0;31mTypeError\u001b[0m                                 Traceback (most recent call last)",
      "\u001b[0;32m<ipython-input-295-8f9015bbf810>\u001b[0m in \u001b[0;36m<module>\u001b[0;34m()\u001b[0m\n\u001b[1;32m      2\u001b[0m \u001b[0;32mfor\u001b[0m \u001b[0mkey\u001b[0m\u001b[0;34m,\u001b[0m \u001b[0mleng\u001b[0m \u001b[0;32min\u001b[0m \u001b[0mcheck\u001b[0m\u001b[0;34m.\u001b[0m\u001b[0miteritems\u001b[0m\u001b[0;34m(\u001b[0m\u001b[0;34m)\u001b[0m\u001b[0;34m:\u001b[0m\u001b[0;34m\u001b[0m\u001b[0m\n\u001b[1;32m      3\u001b[0m \u001b[0;31m#     print key, leng\u001b[0m\u001b[0;34m\u001b[0m\u001b[0;34m\u001b[0m\u001b[0m\n\u001b[0;32m----> 4\u001b[0;31m     \u001b[0;32mprint\u001b[0m \u001b[0mtest\u001b[0m\u001b[0;34m[\u001b[0m\u001b[0mword_ind\u001b[0m\u001b[0;34m:\u001b[0m\u001b[0mleng\u001b[0m\u001b[0;34m]\u001b[0m\u001b[0;34m\u001b[0m\u001b[0m\n\u001b[0m\u001b[1;32m      5\u001b[0m     \u001b[0mword_ind\u001b[0m \u001b[0;34m+=\u001b[0m \u001b[0mleng\u001b[0m\u001b[0;34m\u001b[0m\u001b[0m\n\u001b[1;32m      6\u001b[0m \u001b[0;34m\u001b[0m\u001b[0m\n",
      "\u001b[0;31mTypeError\u001b[0m: slice indices must be integers or None or have an __index__ method"
     ]
    }
   ],
   "source": [
    "word_ind = [0]\n",
    "for key, leng in check.iteritems():\n",
    "#     print key, leng\n",
    "    print test[word_ind:leng]\n",
    "    word_ind += leng\n",
    "    "
   ]
  },
  {
   "cell_type": "code",
   "execution_count": 246,
   "metadata": {
    "collapsed": false
   },
   "outputs": [
    {
     "data": {
      "text/plain": [
       "[(u'got', 99),\n",
       " (u'ten', 9),\n",
       " (u'spot', 99),\n",
       " (u'in', 99),\n",
       " (u'the', 99),\n",
       " ('ca', 99),\n",
       " ('rib', 99),\n",
       " ('be', 99),\n",
       " ('an', 9)]"
      ]
     },
     "execution_count": 246,
     "metadata": {},
     "output_type": "execute_result"
    }
   ],
   "source": [
    "test"
   ]
  },
  {
   "cell_type": "code",
   "execution_count": 251,
   "metadata": {
    "collapsed": false
   },
   "outputs": [
    {
     "data": {
      "text/plain": [
       "[('ca', 99), ('rib', 99), ('be', 99), ('an', 9)]"
      ]
     },
     "execution_count": 251,
     "metadata": {},
     "output_type": "execute_result"
    }
   ],
   "source": [
    "test[5:9]"
   ]
  },
  {
   "cell_type": "code",
   "execution_count": 255,
   "metadata": {
    "collapsed": false
   },
   "outputs": [
    {
     "data": {
      "text/plain": [
       "[0, 3, [3, 5]]"
      ]
     },
     "execution_count": 255,
     "metadata": {},
     "output_type": "execute_result"
    }
   ],
   "source": [
    "cp = [0]\n",
    "cp.append(3)\n",
    "cp.append([3,3+2])\n",
    "cp"
   ]
  },
  {
   "cell_type": "code",
   "execution_count": 256,
   "metadata": {
    "collapsed": false
   },
   "outputs": [
    {
     "name": "stdout",
     "output_type": "stream",
     "text": [
      "[(u'got', 99), (u'ten', 9), (u'spot', 99), (u'in', 99), (u'the', 99), ('ca', 99), ('rib', 99), ('be', 99), ('an', 9)] OrderedDict([('forgotten', 3), ('spot', 1), ('in', 1), ('the', 1), ('caribbean', 4)])\n"
     ]
    }
   ],
   "source": [
    "print test, check"
   ]
  },
  {
   "cell_type": "code",
   "execution_count": 268,
   "metadata": {
    "collapsed": false
   },
   "outputs": [
    {
     "name": "stdout",
     "output_type": "stream",
     "text": [
      "[(u'for', 99), (u'got', 99), (u'ten', 9)]\n",
      "[(u'spot', 99)]\n",
      "[(u'in', 99)]\n",
      "[(u'the', 99)]\n",
      "[('ca', 99), ('rib', 99), ('be', 99), ('an', 9)]\n"
     ]
    },
    {
     "data": {
      "text/plain": [
       "10"
      ]
     },
     "execution_count": 268,
     "metadata": {},
     "output_type": "execute_result"
    }
   ],
   "source": [
    "word_in = 0\n",
    "lst = []\n",
    "for syl, wlen in check.iteritems():\n",
    "    print test[word_in:(word_in+wlen)]\n",
    "    word_in += wlen\n",
    "\n",
    "word_in"
   ]
  },
  {
   "cell_type": "code",
   "execution_count": 265,
   "metadata": {
    "collapsed": false
   },
   "outputs": [
    {
     "data": {
      "text/plain": [
       "[(u'got', 99),\n",
       " (u'ten', 9),\n",
       " (u'spot', 99),\n",
       " (u'in', 99),\n",
       " (u'the', 99),\n",
       " ('ca', 99),\n",
       " ('rib', 99),\n",
       " ('be', 99),\n",
       " ('an', 9)]"
      ]
     },
     "execution_count": 265,
     "metadata": {},
     "output_type": "execute_result"
    }
   ],
   "source": [
    "test"
   ]
  },
  {
   "cell_type": "code",
   "execution_count": 294,
   "metadata": {
    "collapsed": false
   },
   "outputs": [
    {
     "data": {
      "text/plain": [
       "tuple"
      ]
     },
     "execution_count": 294,
     "metadata": {},
     "output_type": "execute_result"
    }
   ],
   "source": [
    "type(test[0])"
   ]
  },
  {
   "cell_type": "code",
   "execution_count": null,
   "metadata": {
    "collapsed": true
   },
   "outputs": [],
   "source": []
  },
  {
   "cell_type": "code",
   "execution_count": 269,
   "metadata": {
    "collapsed": true
   },
   "outputs": [],
   "source": [
    "def word_syl_count(phonetic_syl_dict):\n",
    "    syl_counts = OrderedDict()\n",
    "    for key, val in phonetic_syl_dict.iteritems():\n",
    "        syl_counts.update({key:len(val)})\n",
    "    return syl_counts"
   ]
  },
  {
   "cell_type": "code",
   "execution_count": 288,
   "metadata": {
    "collapsed": true
   },
   "outputs": [],
   "source": [
    "def syl_combine(syl_counts):\n",
    "    word_ind = 0\n",
    "    test2 = OrderedDict()\n",
    "    syl_counts = word_syl_count(syl_counts)\n",
    "    for key, syl_len in syl_counts.iteritems():\n",
    "        temp = test[word_ind:(word_ind+syl_len)]\n",
    "        test2.update({key:temp})\n",
    "        word_ind += syl_len\n",
    "    return test2"
   ]
  },
  {
   "cell_type": "code",
   "execution_count": 289,
   "metadata": {
    "collapsed": false
   },
   "outputs": [
    {
     "name": "stdout",
     "output_type": "stream",
     "text": [
      "OrderedDict([('forgotten', 3), ('spot', 1), ('in', 1), ('the', 1), ('caribbean', 4)])\n"
     ]
    }
   ],
   "source": [
    "counts = word_syl_count(syl_dict)\n",
    "print counts"
   ]
  },
  {
   "cell_type": "code",
   "execution_count": 296,
   "metadata": {
    "collapsed": false
   },
   "outputs": [
    {
     "name": "stdout",
     "output_type": "stream",
     "text": [
      "forgotten [(u'for', 99), (u'got', 99), (u'ten', 9)]\n",
      "spot [(u'spot', 99)]\n",
      "in [(u'in', 99)]\n",
      "the [(u'the', 99)]\n",
      "caribbean [('ca', 99), ('rib', 99), ('be', 99), ('an', 9)]\n"
     ]
    }
   ],
   "source": [
    "LetsSee = syl_combine(syl_dict)\n",
    "for k, v in LetsSee.iteritems():\n",
    "    print k, v"
   ]
  },
  {
   "cell_type": "code",
   "execution_count": 297,
   "metadata": {
    "collapsed": false
   },
   "outputs": [
    {
     "name": "stdout",
     "output_type": "stream",
     "text": [
      "[[(u'for', 99), (u'got', 99), (u'ten', 9)], [(u'spot', 99)], [(u'in', 99)], [(u'the', 99)], [('ca', 99), ('rib', 99), ('be', 99), ('an', 9)]]\n"
     ]
    }
   ],
   "source": [
    "testing = LetsSee.values()\n",
    "print testing"
   ]
  },
  {
   "cell_type": "code",
   "execution_count": 298,
   "metadata": {
    "collapsed": false
   },
   "outputs": [
    {
     "name": "stdout",
     "output_type": "stream",
     "text": [
      "[(u'for', 99), (u'got', 99), (u'ten', 9)]\n",
      "[(u'spot', 99)]\n",
      "[(u'in', 99)]\n",
      "[(u'the', 99)]\n",
      "[('ca', 99), ('rib', 99), ('be', 99), ('an', 9)]\n"
     ]
    }
   ],
   "source": [
    "for i in testing:\n",
    "    print i"
   ]
  },
  {
   "cell_type": "code",
   "execution_count": 359,
   "metadata": {
    "collapsed": false
   },
   "outputs": [
    {
     "name": "stdout",
     "output_type": "stream",
     "text": [
      "\u001b[30msome \u001b[32mred \u001b[33mtext \n",
      "\u001b[1m\u001b[31msome bright red text\n"
     ]
    }
   ],
   "source": [
    "from colorama import *\n",
    "\n",
    "black = Fore.BLACK\n",
    "colors = [Fore.RED, Fore.BLUE, Fore.CYAN, Fore.GREEN, Fore.YELLOW, Fore.MAGENTA]\n",
    "n = 2\n",
    "\n",
    "# init(autoreset=True)\n",
    "print Fore.BLACK + 'some ' + Fore.GREEN + 'red ' + Fore.YELLOW + 'text '\n",
    "print Style.BRIGHT + Fore.RED + 'some bright red text'"
   ]
  },
  {
   "cell_type": "code",
   "execution_count": 363,
   "metadata": {
    "collapsed": false
   },
   "outputs": [
    {
     "data": {
      "text/plain": [
       "[[(u'for', 99), (u'got', 99), (u'ten', 9)],\n",
       " [(u'spot', 99)],\n",
       " [(u'in', 99)],\n",
       " [(u'the', 99)],\n",
       " [('ca', 99), ('rib', 99), ('be', 99), ('an', 9)]]"
      ]
     },
     "execution_count": 363,
     "metadata": {},
     "output_type": "execute_result"
    }
   ],
   "source": [
    "testing"
   ]
  },
  {
   "cell_type": "code",
   "execution_count": 366,
   "metadata": {
    "collapsed": false
   },
   "outputs": [
    {
     "name": "stdout",
     "output_type": "stream",
     "text": [
      "\u001b[30mfor\n",
      "\u001b[30mgot\n",
      "\u001b[31msomething\n",
      "\u001b[30mspot\n",
      "\u001b[30min\n",
      "\u001b[30mthe\n",
      "\u001b[30mca\n",
      "\u001b[30mrib\n",
      "\u001b[30mbe\n",
      "\u001b[31msomething\n"
     ]
    }
   ],
   "source": [
    "black = Fore.BLACK\n",
    "colors = [Fore.RED, Fore.BLUE, Fore.CYAN, Fore.GREEN, Fore.YELLOW, Fore.MAGENTA]\n",
    "n = 2 - 1\n",
    "\n",
    "\n",
    "work = OrderedDict()\n",
    "for key, val in LetsSee.iteritems():\n",
    "    temp = []\n",
    "    for syl in val:\n",
    "        ph, cl = syl[0], syl[1]\n",
    "        if cl == 99:\n",
    "            temp.append(Fore.BLACK + ph)\n",
    "            print  Fore.BLACK + ph\n",
    "        else:\n",
    "#             color_ind = clusters.index(9)\n",
    "            color_ind = 0\n",
    "            print colors[color_ind] + 'something'\n"
   ]
  },
  {
   "cell_type": "code",
   "execution_count": null,
   "metadata": {
    "collapsed": true
   },
   "outputs": [],
   "source": []
  },
  {
   "cell_type": "code",
   "execution_count": null,
   "metadata": {
    "collapsed": true
   },
   "outputs": [],
   "source": []
  },
  {
   "cell_type": "code",
   "execution_count": null,
   "metadata": {
    "collapsed": true
   },
   "outputs": [],
   "source": []
  },
  {
   "cell_type": "code",
   "execution_count": null,
   "metadata": {
    "collapsed": true
   },
   "outputs": [],
   "source": []
  },
  {
   "cell_type": "code",
   "execution_count": null,
   "metadata": {
    "collapsed": true
   },
   "outputs": [],
   "source": []
  },
  {
   "cell_type": "code",
   "execution_count": 307,
   "metadata": {
    "collapsed": false
   },
   "outputs": [
    {
     "data": {
      "text/plain": [
       "[['forgotten', 'spot', 'in', 'the', 'caribbean']]"
      ]
     },
     "execution_count": 307,
     "metadata": {},
     "output_type": "execute_result"
    }
   ],
   "source": [
    "lyrics = [['forgotten', 'spot', 'in', 'the', 'caribbean']]\n",
    "lyrics"
   ]
  },
  {
   "cell_type": "code",
   "execution_count": 312,
   "metadata": {
    "collapsed": false
   },
   "outputs": [
    {
     "name": "stdout",
     "output_type": "stream",
     "text": [
      "forgotten\n",
      "spot\n",
      "in\n",
      "the\n",
      "caribbean\n"
     ]
    }
   ],
   "source": [
    "for line in text.lyrics_tokenized:\n",
    "    for word in line:\n",
    "        syls = text.grouped_syl\n",
    "        print word\n",
    "#         print LetsSee[i]"
   ]
  },
  {
   "cell_type": "code",
   "execution_count": null,
   "metadata": {
    "collapsed": false
   },
   "outputs": [],
   "source": []
  },
  {
   "cell_type": "code",
   "execution_count": null,
   "metadata": {
    "collapsed": true
   },
   "outputs": [],
   "source": []
  },
  {
   "cell_type": "code",
   "execution_count": null,
   "metadata": {
    "collapsed": true
   },
   "outputs": [],
   "source": []
  },
  {
   "cell_type": "code",
   "execution_count": 318,
   "metadata": {
    "collapsed": false
   },
   "outputs": [
    {
     "name": "stdout",
     "output_type": "stream",
     "text": [
      "[(u'for', 99), (u'got', 99), (u'ten', 9)]\n",
      "[(u'spot', 99)]\n",
      "[(u'in', 99)]\n",
      "[(u'the', 99)]\n",
      "[('ca', 99), ('rib', 99), ('be', 99), ('an', 9)]\n"
     ]
    }
   ],
   "source": [
    "for line in lyrics:\n",
    "    for word in line:\n",
    "        syls = LetsSee[word]\n",
    "        print syls\n",
    "#     print line"
   ]
  },
  {
   "cell_type": "code",
   "execution_count": null,
   "metadata": {
    "collapsed": true
   },
   "outputs": [],
   "source": []
  },
  {
   "cell_type": "code",
   "execution_count": 5,
   "metadata": {
    "collapsed": false
   },
   "outputs": [
    {
     "ename": "ImportError",
     "evalue": "No module named mcl_clustering",
     "output_type": "error",
     "traceback": [
      "\u001b[0;31m---------------------------------------------------------------------------\u001b[0m",
      "\u001b[0;31mImportError\u001b[0m                               Traceback (most recent call last)",
      "\u001b[0;32m<ipython-input-5-a301e7cc0ba1>\u001b[0m in \u001b[0;36m<module>\u001b[0;34m()\u001b[0m\n\u001b[0;32m----> 1\u001b[0;31m \u001b[0;32mfrom\u001b[0m \u001b[0mTextAssemble\u001b[0m \u001b[0;32mimport\u001b[0m \u001b[0mTextAssemble\u001b[0m\u001b[0;34m\u001b[0m\u001b[0m\n\u001b[0m",
      "\u001b[0;32m/home/yoyo/Computational-Approach-to-Analyze-and-Visualize-Rap-Lyrics/TextAssemble.py\u001b[0m in \u001b[0;36m<module>\u001b[0;34m()\u001b[0m\n\u001b[0;32m----> 1\u001b[0;31m \u001b[0;32mfrom\u001b[0m \u001b[0mmcl_clustering\u001b[0m \u001b[0;32mimport\u001b[0m \u001b[0mmcl\u001b[0m\u001b[0;34m\u001b[0m\u001b[0m\n\u001b[0m\u001b[1;32m      2\u001b[0m \u001b[0;32mfrom\u001b[0m \u001b[0mScoreMechanism\u001b[0m \u001b[0;32mimport\u001b[0m \u001b[0mScoreMechanism\u001b[0m\u001b[0;34m\u001b[0m\u001b[0m\n\u001b[1;32m      3\u001b[0m \u001b[0;32mfrom\u001b[0m \u001b[0mcollections\u001b[0m \u001b[0;32mimport\u001b[0m \u001b[0mOrderedDict\u001b[0m\u001b[0;34m,\u001b[0m \u001b[0mdefaultdict\u001b[0m\u001b[0;34m\u001b[0m\u001b[0m\n\u001b[1;32m      4\u001b[0m \u001b[0;32mfrom\u001b[0m \u001b[0mfinnsyll\u001b[0m \u001b[0;32mimport\u001b[0m \u001b[0mFinnSyll\u001b[0m\u001b[0;34m\u001b[0m\u001b[0m\n\u001b[1;32m      5\u001b[0m \u001b[0;32mimport\u001b[0m \u001b[0mpronouncing\u001b[0m \u001b[0;32mas\u001b[0m \u001b[0mpr\u001b[0m\u001b[0;34m\u001b[0m\u001b[0m\n",
      "\u001b[0;31mImportError\u001b[0m: No module named mcl_clustering"
     ]
    }
   ],
   "source": [
    "# from TextAssemble import TextAssemble"
   ]
  },
  {
   "cell_type": "code",
   "execution_count": 4,
   "metadata": {
    "collapsed": false
   },
   "outputs": [],
   "source": [
    "# from mcl_clustering import mcl"
   ]
  },
  {
   "cell_type": "code",
   "execution_count": null,
   "metadata": {
    "collapsed": true
   },
   "outputs": [],
   "source": []
  }
 ],
 "metadata": {
  "anaconda-cloud": {},
  "kernelspec": {
   "display_name": "Python [conda root]",
   "language": "python",
   "name": "conda-root-py"
  },
  "language_info": {
   "codemirror_mode": {
    "name": "ipython",
    "version": 2
   },
   "file_extension": ".py",
   "mimetype": "text/x-python",
   "name": "python",
   "nbconvert_exporter": "python",
   "pygments_lexer": "ipython2",
   "version": "2.7.12"
  }
 },
 "nbformat": 4,
 "nbformat_minor": 1
}
