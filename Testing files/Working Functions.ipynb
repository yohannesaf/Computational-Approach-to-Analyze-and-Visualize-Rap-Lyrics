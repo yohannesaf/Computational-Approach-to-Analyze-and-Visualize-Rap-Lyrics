{
 "cells": [
  {
   "cell_type": "code",
   "execution_count": 1,
   "metadata": {
    "collapsed": true
   },
   "outputs": [],
   "source": [
    "import pandas as pd \n",
    "import numpy as np\n",
    "import pronouncing as pr"
   ]
  },
  {
   "cell_type": "code",
   "execution_count": 2,
   "metadata": {
    "collapsed": false
   },
   "outputs": [
    {
     "name": "stdout",
     "output_type": "stream",
     "text": [
      "forgotten spot in the caribbean\n"
     ]
    }
   ],
   "source": [
    "line = 'Forgotten spot in the Caribbean'.lower()\n",
    "print line"
   ]
  },
  {
   "cell_type": "code",
   "execution_count": 27,
   "metadata": {
    "collapsed": false
   },
   "outputs": [
    {
     "name": "stdout",
     "output_type": "stream",
     "text": [
      "[['got', 'me', 'breathing', 'with', 'dragons'], ['i', \"'ll\", 'crack', 'the', 'egg', 'in', 'your', 'basket', ',', 'you', 'bastard']]\n"
     ]
    }
   ],
   "source": [
    "# Reading file line by line\n",
    "\n",
    "content = []\n",
    "with open('/home/yoyo/Desktop/mini.txt') as f:\n",
    "    for line in f.readlines():\n",
    "        content.append(word_tokenize(line.lower().strip()))\n",
    "    \n",
    "print content"
   ]
  },
  {
   "cell_type": "code",
   "execution_count": 39,
   "metadata": {
    "collapsed": false
   },
   "outputs": [],
   "source": [
    "# option one: returning the words in tupel form with word and aphabet.\n",
    "\n",
    "from nltk.tokenize import word_tokenize\n",
    "from nltk.corpus import cmudict\n",
    "from collections import OrderedDict\n",
    "\n",
    "def word_aphabet(string):\n",
    "\n",
    "    aphabet = cmudict.dict()\n",
    "    output = OrderedDict()\n",
    "    for word in string:\n",
    "        try:\n",
    "            output[word] = aphabet[word][0]\n",
    "        except Exception as e:\n",
    "            print e\n",
    "    return output"
   ]
  },
  {
   "cell_type": "code",
   "execution_count": 58,
   "metadata": {
    "collapsed": false
   },
   "outputs": [
    {
     "name": "stdout",
     "output_type": "stream",
     "text": [
      "\"'ll\"\n",
      "','\n",
      "OrderedDict([('got', [u'G', u'AA1', u'T']), ('me', [u'M', u'IY1']), ('breathing', [u'B', u'R', u'IY1', u'DH', u'IH0', u'NG']), ('with', [u'W', u'IH1', u'DH']), ('dragons', [u'D', u'R', u'AE1', u'G', u'AH0', u'N', u'Z']), ('i', [u'AY1']), ('crack', [u'K', u'R', u'AE1', u'K']), ('the', [u'DH', u'AH0']), ('egg', [u'EH1', u'G']), ('in', [u'IH0', u'N']), ('your', [u'Y', u'AO1', u'R']), ('basket', [u'B', u'AE1', u'S', u'K', u'AH0', u'T']), ('you', [u'Y', u'UW1']), ('bastard', [u'B', u'AE1', u'S', u'T', u'ER0', u'D'])])\n",
      "<class 'collections.OrderedDict'>\n"
     ]
    }
   ],
   "source": [
    "from collections import OrderedDict\n",
    "\n",
    "output = OrderedDict()\n",
    "for index, line in enumerate(content):\n",
    "    output.update(word_aphabet(line))\n",
    "\n",
    "print output\n",
    "print type(output)"
   ]
  },
  {
   "cell_type": "code",
   "execution_count": 61,
   "metadata": {
    "collapsed": false
   },
   "outputs": [
    {
     "name": "stdout",
     "output_type": "stream",
     "text": [
      "got\n",
      "[u'G', u'AA1', u'T']\n",
      "me\n",
      "[u'M', u'IY1']\n",
      "breathing\n",
      "[u'B', u'R', u'IY1', u'DH', u'IH0', u'NG']\n",
      "with\n",
      "[u'W', u'IH1', u'DH']\n",
      "dragons\n",
      "[u'D', u'R', u'AE1', u'G', u'AH0', u'N', u'Z']\n",
      "i\n",
      "[u'AY1']\n",
      "crack\n",
      "[u'K', u'R', u'AE1', u'K']\n",
      "the\n",
      "[u'DH', u'AH0']\n",
      "egg\n",
      "[u'EH1', u'G']\n",
      "in\n",
      "[u'IH0', u'N']\n",
      "your\n",
      "[u'Y', u'AO1', u'R']\n",
      "basket\n",
      "[u'B', u'AE1', u'S', u'K', u'AH0', u'T']\n",
      "you\n",
      "[u'Y', u'UW1']\n",
      "bastard\n",
      "[u'B', u'AE1', u'S', u'T', u'ER0', u'D']\n"
     ]
    }
   ],
   "source": [
    "for line in output.iteritems():\n",
    "    print line[0]\n",
    "    print line[1]"
   ]
  },
  {
   "cell_type": "code",
   "execution_count": null,
   "metadata": {
    "collapsed": true
   },
   "outputs": [],
   "source": []
  },
  {
   "cell_type": "code",
   "execution_count": null,
   "metadata": {
    "collapsed": true
   },
   "outputs": [],
   "source": []
  },
  {
   "cell_type": "code",
   "execution_count": null,
   "metadata": {
    "collapsed": true
   },
   "outputs": [],
   "source": []
  },
  {
   "cell_type": "code",
   "execution_count": null,
   "metadata": {
    "collapsed": true
   },
   "outputs": [],
   "source": []
  },
  {
   "cell_type": "code",
   "execution_count": null,
   "metadata": {
    "collapsed": true
   },
   "outputs": [],
   "source": []
  },
  {
   "cell_type": "code",
   "execution_count": null,
   "metadata": {
    "collapsed": true
   },
   "outputs": [],
   "source": []
  },
  {
   "cell_type": "code",
   "execution_count": null,
   "metadata": {
    "collapsed": true
   },
   "outputs": [],
   "source": []
  },
  {
   "cell_type": "code",
   "execution_count": null,
   "metadata": {
    "collapsed": true
   },
   "outputs": [],
   "source": []
  },
  {
   "cell_type": "code",
   "execution_count": 18,
   "metadata": {
    "collapsed": false
   },
   "outputs": [
    {
     "name": "stdout",
     "output_type": "stream",
     "text": [
      "('forgotten', [u'F', u'ER0', u'G', u'AA1', u'T', u'AH0', u'N'])\n"
     ]
    }
   ],
   "source": [
    "test =  output[output[0][1] == output[1][1]]\n",
    "print test"
   ]
  },
  {
   "cell_type": "code",
   "execution_count": 26,
   "metadata": {
    "collapsed": false
   },
   "outputs": [
    {
     "name": "stdout",
     "output_type": "stream",
     "text": [
      "[u'AA1', u'T']\n"
     ]
    }
   ],
   "source": [
    "print [element for element in output[0][1] if element in output[1][1]]"
   ]
  },
  {
   "cell_type": "code",
   "execution_count": null,
   "metadata": {
    "collapsed": true
   },
   "outputs": [],
   "source": []
  },
  {
   "cell_type": "code",
   "execution_count": null,
   "metadata": {
    "collapsed": true
   },
   "outputs": [],
   "source": []
  }
 ],
 "metadata": {
  "anaconda-cloud": {},
  "kernelspec": {
   "display_name": "Python [conda root]",
   "language": "python",
   "name": "conda-root-py"
  },
  "language_info": {
   "codemirror_mode": {
    "name": "ipython",
    "version": 2
   },
   "file_extension": ".py",
   "mimetype": "text/x-python",
   "name": "python",
   "nbconvert_exporter": "python",
   "pygments_lexer": "ipython2",
   "version": "2.7.12"
  }
 },
 "nbformat": 4,
 "nbformat_minor": 1
}
