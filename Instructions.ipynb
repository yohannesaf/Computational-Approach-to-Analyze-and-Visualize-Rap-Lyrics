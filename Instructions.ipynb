{
 "cells": [
  {
   "cell_type": "code",
   "execution_count": 1,
   "metadata": {
    "collapsed": true
   },
   "outputs": [],
   "source": [
    "from TextAssemble import TextAssemble"
   ]
  },
  {
   "cell_type": "code",
   "execution_count": 2,
   "metadata": {
    "collapsed": false
   },
   "outputs": [
    {
     "name": "stdout",
     "output_type": "stream",
     "text": [
      "list index out of range\n",
      "list index out of range\n",
      "list index out of range\n",
      "list index out of range\n",
      "list index out of range\n",
      "list index out of range\n",
      "list index out of range\n",
      "list index out of range\n",
      "list index out of range\n",
      "list index out of range\n",
      "list index out of range\n",
      "list index out of range\n",
      "list index out of range\n",
      "list index out of range\n",
      "list index out of range\n",
      "list index out of range\n",
      "\u001b[35msom\u001b[30me\u001b[30mbody \u001b[32mhit \u001b[30mme \u001b[30mthe \u001b[30mo\u001b[30mther \u001b[31mday \u001b[36mfor \u001b[30ma \u001b[35mren\u001b[34mdezv\u001b[30mous\n",
      "\u001b[35mwas \u001b[32mit \u001b[30mthe \u001b[32mbitch \u001b[36mthat \u001b[35mfucked \u001b[30mthe \u001b[33mgood\u001b[30mie \u001b[32mand \u001b[30mthe \u001b[30mdun\u001b[32mgeon \u001b[31mcrew\n",
      "\u001b[35mlet's \u001b[34msay \u001b[30mher \u001b[31mname \u001b[35mwas \u001b[31msuz\u001b[30my \u001b[30mskrew \u001b[35mcause \u001b[30mshe \u001b[31mscrewed \u001b[30ma \u001b[35mlot\n",
      "\u001b[36mmak\u001b[34min \u001b[30ma \u001b[30mnigga \u001b[32mhit \u001b[36mthat \u001b[30mchonk \u001b[36mat \u001b[32mle\u001b[32mgit\u001b[30mi\u001b[33mmate \u001b[35mspots\n",
      "\u001b[35mnot \u001b[30mno \u001b[35mparks \u001b[30mback\u001b[30mseats \u001b[36mor \u001b[30mthings \u001b[30mof \u001b[36mthat \u001b[32mna\u001b[30mture\n",
      "\u001b[30mhad \u001b[30mto \u001b[34mhate \u001b[30mya \u001b[32mpla\u001b[30mya \u001b[33mi'm \u001b[30mdickin \u001b[30mthe \u001b[30mhoe \u001b[31mdown \u001b[35mnev\u001b[32mer \u001b[35msaid \u001b[30mi \u001b[31mpaid \u001b[30mher\n",
      "\u001b[34mstraight \u001b[31mlaid \u001b[30mher \u001b[30mslayed \u001b[30mthe \u001b[32mbitch \u001b[32mlike \u001b[35mdarth \u001b[30mdaver \u001b[31mmade \u001b[30mher\n",
      "\u001b[35mfrom \u001b[35mcol\u001b[30mlege \u001b[35mpark \u001b[32mand \u001b[34mfaye\u001b[35mtte \u001b[36mall \u001b[30mthe \u001b[30mway \u001b[31mdown \u001b[30mto \u001b[34mde\u001b[34mcat\u001b[32mur\n",
      "\u001b[32mlike \u001b[30mjada \u001b[30mher \u001b[32mwig \u001b[35mwas \u001b[35msharp \u001b[32mand \u001b[36mspor\u001b[30mty \u001b[36mthat \u001b[35mwas \u001b[36mshor\u001b[30mty\n",
      "\u001b[34msafe \u001b[30mas \u001b[30ma \u001b[34msnake \u001b[35mon \u001b[30meggs \u001b[34min \u001b[30ma \u001b[30mbeam\u001b[32mer \u001b[30meight-hundred-forty\n",
      "\u001b[32mit's \u001b[35mfog\u001b[30mgy \u001b[30mi \u001b[35mwent \u001b[30mto \u001b[30mthe \u001b[32mcrib \u001b[30mto \u001b[36mcall \u001b[30mher \u001b[35mbut \u001b[30mshe \u001b[36mlost \u001b[30mme\n",
      "\u001b[33mmy \u001b[31mbab\u001b[30my \u001b[30mmam\u001b[33mma \u001b[30mbeeped \u001b[35msev\u001b[32men \u001b[30mo'\u001b[35mclock \u001b[32mit's \u001b[35mgon\u001b[32mna \u001b[35mcost \u001b[30mme\n",
      "\u001b[35mbut \u001b[30mi \u001b[32mstill \u001b[35mwan\u001b[32mna \u001b[35mcut \u001b[30mher \u001b[30mthough \u001b[31mmay\u001b[30mbe \u001b[30mshe \u001b[30mhad \u001b[30mto \u001b[31mwork\n",
      "\u001b[30mi \u001b[35mcaught \u001b[30mher \u001b[34min \u001b[30mthe \u001b[36mmall \u001b[30mwearin \u001b[30ma \u001b[30mreal \u001b[30mtight \u001b[31mskirt\n",
      "\u001b[30mshe \u001b[35mwas \u001b[30mfine \u001b[30mas \u001b[35mfuck \u001b[30mi \u001b[30mwant\u001b[34med \u001b[30mto \u001b[35msex \u001b[30mthe \u001b[30mhoe \u001b[35mup\n",
      "\u001b[30mshe \u001b[35msaid \u001b[30m\"let's \u001b[32mhit \u001b[30mthe \u001b[35mpark\u001b[34ming \u001b[35mlot \u001b[35mso \u001b[30mi \u001b[36mcan \u001b[32msick \u001b[36myour \u001b[30mduck\"\n",
      "\u001b[30mi \u001b[35msaid \u001b[30m\"cool \u001b[30mi \u001b[32mre\u001b[30mally \u001b[30mwant\u001b[34med \u001b[30mto \u001b[35mcut \u001b[30myou \u001b[35mbut \u001b[32mthis\u001b[32m'll \u001b[30mdo.\n",
      "\u001b[30mi \u001b[35mgot\u001b[33mta \u001b[32mpick \u001b[35mup \u001b[33mmy \u001b[36mdaugh\u001b[32mter \u001b[35mplus \u001b[33mmy \u001b[31mbab\u001b[30my \u001b[30mmam\u001b[33mma \u001b[30mbeeped \u001b[30mme \u001b[30mtoo.\"\n",
      "\u001b[30mshe \u001b[35msaid \u001b[30mshe \u001b[30mun\u001b[30mder\u001b[33mstood \u001b[35mthen \u001b[35mev\u001b[30mery\u001b[30mthing \u001b[35mwas \u001b[30mkosh\u001b[32mer\n",
      "\u001b[30mi \u001b[30mgave \u001b[30mher \u001b[30ma \u001b[30mlil' \u001b[32mwill \u001b[30mc\u001b[30md \u001b[32mand \u001b[30ma \u001b[30mfuckin \u001b[35mpost\u001b[32mer\n",
      "\u001b[32mit's \u001b[32mlike \u001b[36mthat \u001b[31mnow\n"
     ]
    }
   ],
   "source": [
    "lyric = TextAssemble('lyrics/Andre_3000.md')"
   ]
  },
  {
   "cell_type": "code",
   "execution_count": null,
   "metadata": {
    "collapsed": true
   },
   "outputs": [],
   "source": []
  }
 ],
 "metadata": {
  "anaconda-cloud": {},
  "kernelspec": {
   "display_name": "Python [conda root]",
   "language": "python",
   "name": "conda-root-py"
  },
  "language_info": {
   "codemirror_mode": {
    "name": "ipython",
    "version": 2
   },
   "file_extension": ".py",
   "mimetype": "text/x-python",
   "name": "python",
   "nbconvert_exporter": "python",
   "pygments_lexer": "ipython2",
   "version": "2.7.12"
  }
 },
 "nbformat": 4,
 "nbformat_minor": 1
}
